{
 "cells": [
  {
   "cell_type": "code",
   "execution_count": 1,
   "id": "89ca4c4a",
   "metadata": {},
   "outputs": [],
   "source": [
    "name=[\"mohan\",\"dash\",\"karam\",\"chandra\",\"gandhi\",\"bapu\"]\n",
    "name.append(\"freedom_fighter\")"
   ]
  },
  {
   "cell_type": "code",
   "execution_count": 2,
   "id": "4c760bef",
   "metadata": {},
   "outputs": [
    {
     "name": "stdout",
     "output_type": "stream",
     "text": [
      "['mohan', 'dash', 'karam', 'chandra', 'gandhi', 'bapu', 'freedom_fighter']\n"
     ]
    }
   ],
   "source": [
    "print(name)"
   ]
  },
  {
   "cell_type": "code",
   "execution_count": 8,
   "id": "edb3816f",
   "metadata": {},
   "outputs": [
    {
     "name": "stdout",
     "output_type": "stream",
     "text": [
      "8\n"
     ]
    }
   ],
   "source": [
    "#b)\n",
    "name=[\"freedom_fighter\",\"mohan\",\"dash\",\"karam\",\"chandra\",\"gandhi\",\"bapu\"]\n",
    "length1=len(name[-len(name)+1:-1:2])\n",
    "length2=len(name[-len(name)+1:-1])\n",
    "print(length1+length2)\n"
   ]
  },
  {
   "cell_type": "code",
   "execution_count": 7,
   "id": "d034df5c",
   "metadata": {},
   "outputs": [
    {
     "data": {
      "text/plain": [
       "3"
      ]
     },
     "execution_count": 7,
     "metadata": {},
     "output_type": "execute_result"
    }
   ],
   "source": [
    "len(name[-len(name)+1:-1:2])"
   ]
  },
  {
   "cell_type": "code",
   "execution_count": 10,
   "id": "48d2c28a",
   "metadata": {},
   "outputs": [],
   "source": [
    "name.append([\"Netaji\",\"Bose\"])"
   ]
  },
  {
   "cell_type": "code",
   "execution_count": 11,
   "id": "0460052e",
   "metadata": {},
   "outputs": [
    {
     "data": {
      "text/plain": [
       "['freedom_fighter',\n",
       " 'mohan',\n",
       " 'dash',\n",
       " 'karam',\n",
       " 'chandra',\n",
       " 'gandhi',\n",
       " 'bapu',\n",
       " ['Netaji', 'Bose']]"
      ]
     },
     "execution_count": 11,
     "metadata": {},
     "output_type": "execute_result"
    }
   ],
   "source": [
    "name"
   ]
  },
  {
   "cell_type": "code",
   "execution_count": 13,
   "id": "252fcd61",
   "metadata": {},
   "outputs": [
    {
     "name": "stdout",
     "output_type": "stream",
     "text": [
      "['mohan', 'dash', 'karam', 'chandra', 'gandhi', 'bapuji']\n"
     ]
    }
   ],
   "source": [
    "name=[\"bapuji\",\"dash\",\"karam\",\"chandra\",\"gandhi\",\"mohan\"]\n",
    "temp=name[-1]\n",
    "name[-1]=name[0]\n",
    "name[0]=temp\n",
    "print(name)"
   ]
  },
  {
   "cell_type": "code",
   "execution_count": 14,
   "id": "b2df1999",
   "metadata": {},
   "outputs": [
    {
     "name": "stdout",
     "output_type": "stream",
     "text": [
      "1\n",
      "4\n",
      "7\n"
     ]
    }
   ],
   "source": [
    "#1.4 Find the output of the following\n",
    "animal=[\"Human\",\"Cat\",\"mat\",\"cat\",\"rat\",\"human\",\"Lion\"]\n",
    "print(animal.count(\"human\"))\n",
    "print(animal.index(\"rat\"))\n",
    "print(len(animal))"
   ]
  },
  {
   "cell_type": "code",
   "execution_count": 15,
   "id": "75cc6e35",
   "metadata": {},
   "outputs": [
    {
     "name": "stdout",
     "output_type": "stream",
     "text": [
      "8\n"
     ]
    }
   ],
   "source": [
    "# 1.5 \n",
    "tuple=(10,20,\"Apple\",3.4,'a',[\"master\",\"ji\"],(\"sita\",\"geeta\",22),[{\"roll_no\":1},{\"name\":\"Navneet\"}])\n",
    "print(len(tuple))\n",
    "      \n",
    "      \n",
    "      "
   ]
  },
  {
   "cell_type": "code",
   "execution_count": 16,
   "id": "e4ed5c77",
   "metadata": {},
   "outputs": [
    {
     "name": "stdout",
     "output_type": "stream",
     "text": [
      "Navneet\n"
     ]
    }
   ],
   "source": [
    "print(tuple[-1][-1]['name'])"
   ]
  },
  {
   "cell_type": "code",
   "execution_count": 17,
   "id": "c5f26fe6",
   "metadata": {},
   "outputs": [
    {
     "name": "stdout",
     "output_type": "stream",
     "text": [
      "[{'roll_no': 1}, {'name': 'Navneet'}]\n"
     ]
    }
   ],
   "source": [
    "print(tuple[-1])"
   ]
  },
  {
   "cell_type": "code",
   "execution_count": 18,
   "id": "fbfed114",
   "metadata": {},
   "outputs": [
    {
     "name": "stdout",
     "output_type": "stream",
     "text": [
      "10\n"
     ]
    }
   ],
   "source": [
    "print(tuple[0])"
   ]
  },
  {
   "cell_type": "code",
   "execution_count": 19,
   "id": "3ed160fd",
   "metadata": {},
   "outputs": [
    {
     "name": "stdout",
     "output_type": "stream",
     "text": [
      "Navneet\n"
     ]
    }
   ],
   "source": [
    "print(tuple[-1][1]['name'])"
   ]
  },
  {
   "cell_type": "code",
   "execution_count": 21,
   "id": "ccbb7ace",
   "metadata": {},
   "outputs": [
    {
     "name": "stdout",
     "output_type": "stream",
     "text": [
      "1\n"
     ]
    }
   ],
   "source": [
    "print(tuple[7][0]['roll_no'])"
   ]
  },
  {
   "cell_type": "code",
   "execution_count": 22,
   "id": "05a47b96",
   "metadata": {},
   "outputs": [
    {
     "name": "stdout",
     "output_type": "stream",
     "text": [
      "ji\n"
     ]
    }
   ],
   "source": [
    "print(tuple[-3][1])"
   ]
  },
  {
   "cell_type": "code",
   "execution_count": 23,
   "id": "64b88b55",
   "metadata": {},
   "outputs": [
    {
     "name": "stdout",
     "output_type": "stream",
     "text": [
      "22\n"
     ]
    }
   ],
   "source": [
    "print(tuple[-2][2])"
   ]
  },
  {
   "cell_type": "markdown",
   "id": "2f5216b7",
   "metadata": {},
   "source": [
    "## Q.1.6 Write a program to display the appropriate message as per the color of Signal (red-Stop /Yellow-Stay /Green-Go)at the road crossing"
   ]
  },
  {
   "cell_type": "code",
   "execution_count": 25,
   "id": "6ae313ad",
   "metadata": {},
   "outputs": [
    {
     "name": "stdout",
     "output_type": "stream",
     "text": [
      "Enter the traffic signal color (red/yellow/green): red\n",
      "Stop\n"
     ]
    }
   ],
   "source": [
    "def traffic_signal_message(color):\n",
    "    if color.lower() == \"red\":\n",
    "        return \"Stop\"\n",
    "    elif color.lower() == \"yellow\":\n",
    "        return \"Stay\"\n",
    "    elif color.lower() == \"green\":\n",
    "        return \"Go\"\n",
    "    else:\n",
    "        return \"Invalid  color\"\n",
    "\n",
    "\n",
    "color = input(\"Enter the traffic signal color (red/yellow/green): \")\n",
    "message = traffic_signal_message(color)\n",
    "print(message)"
   ]
  },
  {
   "cell_type": "markdown",
   "id": "5d324134",
   "metadata": {},
   "source": [
    "## Q.1.7 Try to program to create a simple calculator performing only four basic operator(+,-.*,/)"
   ]
  },
  {
   "cell_type": "code",
   "execution_count": 26,
   "id": "33c74eaf",
   "metadata": {},
   "outputs": [
    {
     "name": "stdout",
     "output_type": "stream",
     "text": [
      "Select operation:\n",
      "1. Add\n",
      "2. Subtract\n",
      "3. Multiply\n",
      "4. Divide\n",
      "Enter choice(1/2/3/4): 1\n",
      "Enter first number: 4\n",
      "Enter second number: 5\n",
      "4.0 + 5.0 = 9.0\n"
     ]
    }
   ],
   "source": [
    "def add(x, y):\n",
    "    return x + y\n",
    "\n",
    "def subtract(x, y):\n",
    "    return x - y\n",
    "\n",
    "def multiply(x, y):\n",
    "    return x * y\n",
    "\n",
    "def divide(x, y):\n",
    "    if y == 0:\n",
    "        return \"Error\"\n",
    "    else:\n",
    "        return x / y\n",
    "\n",
    "def calculator():\n",
    "    print(\"Select operation:\")\n",
    "    print(\"1. Add\")\n",
    "    print(\"2. Subtract\")\n",
    "    print(\"3. Multiply\")\n",
    "    print(\"4. Divide\")\n",
    "\n",
    "    choice = input(\"Enter choice(1/2/3/4): \")\n",
    "\n",
    "    if choice in ['1', '2', '3', '4']:\n",
    "        x = float(input(\"Enter first number: \"))\n",
    "        y = float(input(\"Enter second number: \"))\n",
    "\n",
    "        if choice == '1':\n",
    "            print(f\"{x} + {y} = {add(x,y)}\")\n",
    "\n",
    "        elif choice == '2':\n",
    "            print(f\"{x} - {y} = {subtract(x,y)}\")\n",
    "\n",
    "        elif choice == '3':\n",
    "            print(f\"{x} * {y} = {multiply(x,y)}\")\n",
    "\n",
    "        elif choice == '4':\n",
    "            print(f\"{num1} / {num2} = {divide(num1, num2)}\")\n",
    "    else:\n",
    "        print(\"Invalid input\")\n",
    "\n",
    "# Run the calculator function\n",
    "calculator()"
   ]
  },
  {
   "cell_type": "markdown",
   "id": "df6bf3d6",
   "metadata": {},
   "source": [
    "## Q.1.8 Write a program to find the largest of the three pre specified number using ternary operator."
   ]
  },
  {
   "cell_type": "code",
   "execution_count": 28,
   "id": "ee2e7145",
   "metadata": {},
   "outputs": [
    {
     "name": "stdout",
     "output_type": "stream",
     "text": [
      "The largest number among 10, 25, and 15 is 25.\n"
     ]
    }
   ],
   "source": [
    "a = 10\n",
    "b = 25\n",
    "c = 15\n",
    "\n",
    "\n",
    "largest = a if (a > b and a > c) else (b if b > c else c)\n",
    "\n",
    "\n",
    "print(f\"The largest number among {a}, {b}, and {c} is {largest}.\")"
   ]
  },
  {
   "cell_type": "markdown",
   "id": "5e450841",
   "metadata": {},
   "source": [
    "## Q.1.9 write a program to find the factors of whole number using a while loop"
   ]
  },
  {
   "cell_type": "code",
   "execution_count": 29,
   "id": "9295a843",
   "metadata": {},
   "outputs": [],
   "source": [
    "def find_factors(num):\n",
    "    i=1\n",
    "    factor=[]\n",
    "    while i<=num:\n",
    "        if num%i==0:\n",
    "            factor.append(i)\n",
    "        i=i+1\n",
    "    return factor"
   ]
  },
  {
   "cell_type": "code",
   "execution_count": 30,
   "id": "b5a79196",
   "metadata": {},
   "outputs": [
    {
     "data": {
      "text/plain": [
       "[1, 2, 5, 10]"
      ]
     },
     "execution_count": 30,
     "metadata": {},
     "output_type": "execute_result"
    }
   ],
   "source": [
    "find_factors(10)"
   ]
  },
  {
   "cell_type": "markdown",
   "id": "5161fb55",
   "metadata": {},
   "source": [
    "## Q.1.10 Try to program to find the sum of all the positive numbers entered by the user as soon as the user inter a negative number stop talking in any further input from the user and display the sum"
   ]
  },
  {
   "cell_type": "code",
   "execution_count": 2,
   "id": "b80cf7d9",
   "metadata": {},
   "outputs": [],
   "source": [
    "def sum_positive_numbers():\n",
    "    total_sum = 0\n",
    "\n",
    "    while True:\n",
    "        try:\n",
    "            number = float(input(\"Enter a positive number (or a negative number to stop): \"))\n",
    "            if number < 0:\n",
    "                break\n",
    "            elif number > 0:\n",
    "                total_sum += number\n",
    "            else:\n",
    "                print(\"Zero is neither positive nor negative. Please enter a positive number.\")\n",
    "        except ValueError:\n",
    "            print(\"Invalid input. Please enter a numeric value.\")\n",
    "\n",
    "    print(f\"The sum of all positive numbers entered is: {total_sum}\")\n"
   ]
  },
  {
   "cell_type": "code",
   "execution_count": 3,
   "id": "9d68ef84",
   "metadata": {},
   "outputs": [
    {
     "name": "stdout",
     "output_type": "stream",
     "text": [
      "Enter a positive number (or a negative number to stop): 5\n",
      "Enter a positive number (or a negative number to stop): 5\n",
      "Enter a positive number (or a negative number to stop): 6\n",
      "Enter a positive number (or a negative number to stop): 7\n",
      "Enter a positive number (or a negative number to stop): y\n",
      "Invalid input. Please enter a numeric value.\n",
      "Enter a positive number (or a negative number to stop): 7\n",
      "Enter a positive number (or a negative number to stop): -3\n",
      "The sum of all positive numbers entered is: 30.0\n"
     ]
    }
   ],
   "source": [
    "sum_positive_numbers()"
   ]
  },
  {
   "cell_type": "markdown",
   "id": "d8f87f1d",
   "metadata": {},
   "source": [
    "## Q.1.11 Write a program to find prime number between 2 to 200 using nested for loops"
   ]
  },
  {
   "cell_type": "code",
   "execution_count": 4,
   "id": "2a691399",
   "metadata": {},
   "outputs": [
    {
     "data": {
      "text/plain": [
       "2"
      ]
     },
     "execution_count": 4,
     "metadata": {},
     "output_type": "execute_result"
    }
   ],
   "source": [
    "num=6\n",
    "int(num**0.5)"
   ]
  },
  {
   "cell_type": "code",
   "execution_count": 5,
   "id": "b3b04db1",
   "metadata": {},
   "outputs": [],
   "source": [
    "def find_primes(start, end):\n",
    "    primes = []\n",
    "    \n",
    "    for num in range(start, end + 1):\n",
    "        if num > 1:  # 0 and 1 are not prime numbers\n",
    "            is_prime = True\n",
    "            for i in range(2, int(num**0.5) + 1):\n",
    "                if num % i == 0:\n",
    "                    is_prime = False\n",
    "                    break\n",
    "            if is_prime:\n",
    "                primes.append(num)\n",
    "    \n",
    "    return primes"
   ]
  },
  {
   "cell_type": "code",
   "execution_count": 8,
   "id": "56641c5b",
   "metadata": {},
   "outputs": [
    {
     "name": "stdout",
     "output_type": "stream",
     "text": [
      "[2, 3, 5, 7, 11, 13, 17, 19, 23, 29, 31, 37, 41, 43, 47, 53, 59, 61, 67, 71, 73, 79, 83, 89, 97]\n"
     ]
    }
   ],
   "source": [
    "print(find_primes(2, 100))"
   ]
  },
  {
   "cell_type": "code",
   "execution_count": null,
   "id": "542c0602",
   "metadata": {},
   "outputs": [],
   "source": [
    "## Q.We write the program for the following\n",
    "1 Accept the marks of the student in five major subjects and display the same\n",
    "2. Calculate the sum of the marks of all subjects divide the total marks by number of subjects calculate percentage =total marks/5 and display the percentage\n",
    "3. Find the grade of the student as for the following criteria"
   ]
  },
  {
   "cell_type": "code",
   "execution_count": 1,
   "id": "70d0b651",
   "metadata": {},
   "outputs": [
    {
     "name": "stdout",
     "output_type": "stream",
     "text": [
      "Enter the marks for the following subjects:\n",
      "Math: 24\n",
      "Science: 65\n",
      "English: 87\n",
      "History: 45\n",
      "Geography: 52\n",
      "\n",
      "Marks obtained by the student:\n",
      "Math: 24.0\n",
      "Science: 65.0\n",
      "English: 87.0\n",
      "History: 45.0\n",
      "Geography: 52.0\n",
      "\n",
      "Total Marks: 273.0\n",
      "Percentage: 54.60%\n",
      "Grade: C\n"
     ]
    }
   ],
   "source": [
    "def get_student_marks():\n",
    "    subjects = [\"Math\", \"Science\", \"English\", \"History\", \"Geography\"]\n",
    "    marks = {}\n",
    "    \n",
    "    print(\"Enter the marks for the following subjects:\")\n",
    "    \n",
    "    for subject in subjects:\n",
    "        while True:\n",
    "            try:\n",
    "                mark = float(input(f\"{subject}: \"))\n",
    "                if mark < 0 or mark > 100:\n",
    "                    print(\"Please enter a mark between 0 and 100.\")\n",
    "                else:\n",
    "                    marks[subject] = mark\n",
    "                    break\n",
    "            except ValueError:\n",
    "                print(\"Invalid input. Please enter a numeric value.\")\n",
    "    \n",
    "    return marks\n",
    "\n",
    "def display_marks(marks):\n",
    "    print(\"\\nMarks obtained by the student:\")\n",
    "    for subject, mark in marks.items():\n",
    "        print(f\"{subject}: {mark}\")\n",
    "\n",
    "def calculate_percentage(marks):\n",
    "    total_marks = sum(marks.values())\n",
    "    number_of_subjects = len(marks)\n",
    "    percentage = (total_marks / (number_of_subjects * 100)) * 100\n",
    "    return total_marks, percentage\n",
    "\n",
    "def determine_grade(percentage):\n",
    "    if percentage > 80:\n",
    "        return 'A'\n",
    "    elif 85>percentage>=75:\n",
    "        return 'B'\n",
    "    elif 75>percentage >= 50:\n",
    "        return 'C'\n",
    "    elif 30<percentage<=50 :\n",
    "        return 'D'\n",
    "    elif percentage<30:\n",
    "        return reappear\n",
    "    else:\n",
    "        return 'F'\n",
    "\n",
    "# Main program\n",
    "student_marks = get_student_marks()\n",
    "display_marks(student_marks)\n",
    "\n",
    "total_marks, percentage = calculate_percentage(student_marks)\n",
    "print(f\"\\nTotal Marks: {total_marks}\")\n",
    "print(f\"Percentage: {percentage:.2f}%\")\n",
    "\n",
    "grade = determine_grade(percentage)\n",
    "print(f\"Grade: {grade}\")"
   ]
  },
  {
   "cell_type": "code",
   "execution_count": 1,
   "id": "7ae60ac4",
   "metadata": {},
   "outputs": [],
   "source": [
    "## Q.Write a program for VIGBYOR spectrum based on their wavelength using wavelength range"
   ]
  },
  {
   "cell_type": "code",
   "execution_count": 1,
   "id": "9c6145ed",
   "metadata": {},
   "outputs": [
    {
     "name": "stdout",
     "output_type": "stream",
     "text": [
      "Enter the wavelength in nm: 430.0\n",
      "The color for wavelength 430.0 nm is Violet.\n"
     ]
    }
   ],
   "source": [
    "def get_wavelength(wavelength):\n",
    "    if 400.0 <= wavelength < 440.0:\n",
    "        return \"Violet\"\n",
    "    elif 440.0 <= wavelength < 460.0:\n",
    "        return \"Indigo\"\n",
    "    elif 460.0 <= wavelength < 500.0:\n",
    "        return \"Blue\"\n",
    "    elif 500.0 <= wavelength < 570.0:\n",
    "        return \"Green\"\n",
    "    elif 570.0 <= wavelength < 590.0:\n",
    "        return \"Yellow\"\n",
    "    elif 590.0 <= wavelength < 620.0:\n",
    "        return \"Orange\"\n",
    "    elif 620.0 <= wavelength <= 720.0:\n",
    "        return \"Red\"\n",
    "    else:\n",
    "        return \"Wavelength out of visible spectrum range\"\n",
    "\n",
    "try:\n",
    "    wavelength = float(input(\"Enter the wavelength in nm: \"))\n",
    "    color = get_wavelength(wavelength)\n",
    "    print(f\"The color for wavelength {wavelength} nm is {color}.\")\n",
    "except ValueError:\n",
    "    print(\"Please enter a valid number for the wavelength.\")"
   ]
  },
  {
   "cell_type": "code",
   "execution_count": null,
   "id": "f3eda7d3",
   "metadata": {},
   "outputs": [],
   "source": [
    "## Q.1.14 Consider the gravitational interactions between the Earth Moon and sun in our solar system given\n",
    "    Mass_earth=5.972e24\n",
    "    Mass_moon=7.34767309e22\n",
    "    Mason_sun=1.989e30\n",
    "    Distance_Earth_Sun=1.496e11\n",
    "    Distance Moon Earth=3.844e8\n",
    "1. Calculate the gravitational force between the earth and the sun\n",
    " 2.Calculate the gravitational force between the moon\n",
    "3.the earth compare the calculated force to determine which gravitational force is Stronger \n",
    "4.explain witch Celestial Body is more attracted to the other best on the comparison"
   ]
  },
  {
   "cell_type": "code",
   "execution_count": 3,
   "id": "7529a514",
   "metadata": {},
   "outputs": [
    {
     "data": {
      "text/plain": [
       "3.5423960813684973e+22"
      ]
     },
     "execution_count": 3,
     "metadata": {},
     "output_type": "execute_result"
    }
   ],
   "source": [
    "G = 6.67430e-11  \n",
    "mass_earth = 5.972e24 \n",
    "mass_sun = 1.989e30  \n",
    "distance_earth_sun = 1.496e11 \n",
    "# Gravitational force calculation\n",
    "force_earth_sun = G * mass_earth * mass_sun / distance_earth_sun**2\n",
    "\n",
    "force_earth_sun"
   ]
  },
  {
   "cell_type": "code",
   "execution_count": 4,
   "id": "222f1354",
   "metadata": {},
   "outputs": [
    {
     "data": {
      "text/plain": [
       "1.982022545652681e+20"
      ]
     },
     "execution_count": 4,
     "metadata": {},
     "output_type": "execute_result"
    }
   ],
   "source": [
    "mass_moon = 7.34767309e22 \n",
    "distance_moon_earth = 3.844e8  \n",
    "# Gravitational force calculation\n",
    "force_moon_earth = G * mass_moon * mass_earth / distance_moon_earth**2\n",
    "\n",
    "force_moon_earth"
   ]
  },
  {
   "cell_type": "code",
   "execution_count": null,
   "id": "db662834",
   "metadata": {},
   "outputs": [],
   "source": [
    "The gravitational force between the Earth and the Sun is significantly stronger than the gravitational force between the Moon and the Earth.\n",
    "\n",
    "Explanation:The Earth is more attracted to the Sun than it is to the Moon due to the much larger gravitational force exerted by the Sun.\n",
    "Despite the Moon being much closer to the Earth than the Sun, the Sun's immense mass results in a far greater gravitational force.\n",
    "Thus, the Earth is more gravitationally attracted to the Sun than to the Moon"
   ]
  },
  {
   "cell_type": "markdown",
   "id": "4e3bfaa1",
   "metadata": {},
   "source": [
    "## Q.2 Design and implement a python program for managing student information using object oriented principles create a class \n",
    "# called student with encapsulated attributes for name age and row number implement getter and setter method for these attributes\n",
    "# additionally provided method to display student information and update student details"
   ]
  },
  {
   "cell_type": "code",
   "execution_count": 6,
   "id": "a8770f96",
   "metadata": {},
   "outputs": [
    {
     "name": "stdout",
     "output_type": "stream",
     "text": [
      "Name: Alice\n",
      "Age: 20\n",
      "Row Number: 1\n",
      "Name: Alice Smith\n",
      "Age: 21\n",
      "Row Number: 1\n",
      "Name: Alice Smith\n",
      "Age: 21\n",
      "Row Number: 2\n"
     ]
    },
    {
     "data": {
      "text/plain": [
       "'Alice Smith'"
      ]
     },
     "execution_count": 6,
     "metadata": {},
     "output_type": "execute_result"
    }
   ],
   "source": [
    "class Student:\n",
    "    def __init__(self, name, age, row_number):\n",
    "        self.__name = name\n",
    "        self.__age = age\n",
    "        self.__row_number = row_number\n",
    "\n",
    "    # Getter and Setter for name\n",
    "    def get_name(self):\n",
    "        return self.__name\n",
    "    \n",
    "    def set_name(self, name):\n",
    "        self.__name = name\n",
    "\n",
    "    # Getter and Setter for age\n",
    "    def get_age(self):\n",
    "        return self.__age\n",
    "    \n",
    "    def set_age(self, age):\n",
    "        self.__age = age\n",
    "\n",
    "    # Getter and Setter for row_number\n",
    "    def get_row_number(self):\n",
    "        return self.__row_number\n",
    "    \n",
    "    def set_row_number(self, row_number):\n",
    "        self.__row_number = row_number\n",
    "\n",
    "    # Method to display student information\n",
    "    def display_info(self):\n",
    "        print(f\"Name: {self.__name}\")\n",
    "        print(f\"Age: {self.__age}\")\n",
    "        print(f\"Row Number: {self.__row_number}\")\n",
    "\n",
    "    # Method to update student details\n",
    "    def update_details(self, name=None, age=None, row_number=None):\n",
    "        if name is not None:\n",
    "            self.__name = name\n",
    "        if age is not None:\n",
    "            self.__age = age\n",
    "        if row_number is not None:\n",
    "            self.__row_number = row_number\n",
    "\n",
    "\n",
    "student1 = Student(\"Alice\", 20, 1)\n",
    "student1.display_info()\n",
    "\n",
    "\n",
    "student1.update_details(name=\"Alice Smith\", age=21)\n",
    "student1.display_info()\n",
    "\n",
    "# Using setters to update details\n",
    "student1.set_row_number(2)\n",
    "student1.display_info()\n",
    "\n",
    "# Using getters to retrieve details\n",
    "student1.get_name()"
   ]
  },
  {
   "cell_type": "markdown",
   "id": "dd95cd8a",
   "metadata": {},
   "source": [
    "## Develop a python program for managing library resources efficiently design a class name library box with attributes\n",
    "## like book name author and availability status implement method 4 borrowing and returning books while ensuring proper \n",
    "## encapsulation of attributes"
   ]
  },
  {
   "cell_type": "code",
   "execution_count": 9,
   "id": "63a724df",
   "metadata": {},
   "outputs": [
    {
     "name": "stdout",
     "output_type": "stream",
     "text": [
      "Book Name: bhagvat\n",
      "Author: by pooja\n",
      "Status: Available\n",
      "The book 'bhagvat' has been borrowed.\n",
      "Book Name: bhagvat\n",
      "Author: by pooja\n",
      "Status: Not Available\n",
      "Sorry, the book 'bhagvat' is currently not available.\n",
      "The book 'bhagvat' has been returned.\n",
      "Book Name: bhagvat\n",
      "Author: by pooja\n",
      "Status: Available\n",
      "The book 'bhagvat' was not borrowed.\n"
     ]
    }
   ],
   "source": [
    "class LibraryBox:\n",
    "    def __init__(self, book_name, author, availability_status=True):\n",
    "        self.__book_name = book_name\n",
    "        self.__author = author\n",
    "        self.__availability_status = availability_status\n",
    "\n",
    "    # Getter and Setter for book_name\n",
    "    def get_book_name(self):\n",
    "        return self.__book_name\n",
    "\n",
    "    def set_book_name(self, book_name):\n",
    "        self.__book_name = book_name\n",
    "\n",
    "    # Getter and Setter for author\n",
    "    def get_author(self):\n",
    "        return self.__author\n",
    "\n",
    "    def set_author(self, author):\n",
    "        self.__author = author\n",
    "\n",
    "    # Getter and Setter for availability_status\n",
    "    def is_available(self):\n",
    "        return self.__availability_status\n",
    "\n",
    "    def set_availability_status(self, status):\n",
    "        self.__availability_status = status\n",
    "\n",
    "    \n",
    "    def display_info(self):\n",
    "        status = \"Available\" if self.__availability_status else \"Not Available\"\n",
    "        print(f\"Book Name: {self.__book_name}\")\n",
    "        print(f\"Author: {self.__author}\")\n",
    "        print(f\"Status: {status}\")\n",
    "\n",
    " \n",
    "    def borrow_book(self):\n",
    "        if self.__availability_status:\n",
    "            self.__availability_status = False\n",
    "            print(f\"The book '{self.__book_name}' has been borrowed.\")\n",
    "        else:\n",
    "            print(f\"Sorry, the book '{self.__book_name}' is currently not available.\")\n",
    "\n",
    "   \n",
    "    def return_book(self):\n",
    "        if not self.__availability_status:\n",
    "            self.__availability_status = True\n",
    "            print(f\"The book '{self.__book_name}' has been returned.\")\n",
    "        else:\n",
    "            print(f\"The book '{self.__book_name}' was not borrowed.\")\n",
    "\n",
    "\n",
    "book1 = LibraryBox(\"bhagvat\", \"by pooja\")\n",
    "book1.display_info()\n",
    "\n",
    "\n",
    "book1.borrow_book()\n",
    "book1.display_info()\n",
    "\n",
    "# Try to borrow the book again\n",
    "book1.borrow_book()\n",
    "\n",
    "# Return the book\n",
    "book1.return_book()\n",
    "book1.display_info()\n",
    "\n",
    "# Try to return the book again\n",
    "book1.return_book()"
   ]
  },
  {
   "cell_type": "code",
   "execution_count": null,
   "id": "c9ae1a81",
   "metadata": {},
   "outputs": [],
   "source": [
    "Q.Create a simple banking system using object oriented concept in python design classes representing different type of bank \n",
    "account such as saving and checking implement methods for deposit withdraw and balance inquiry utilize inheritance to manage\n",
    "different account types efficiently"
   ]
  },
  {
   "cell_type": "code",
   "execution_count": 10,
   "id": "efe54c6e",
   "metadata": {},
   "outputs": [
    {
     "name": "stdout",
     "output_type": "stream",
     "text": [
      "Book Name: To Kill a Mockingbird\n",
      "Author: Harper Lee\n",
      "Status: Available\n",
      "The book 'To Kill a Mockingbird' has been borrowed.\n",
      "Book Name: To Kill a Mockingbird\n",
      "Author: Harper Lee\n",
      "Status: Not Available\n",
      "Sorry, the book 'To Kill a Mockingbird' is currently not available.\n",
      "The book 'To Kill a Mockingbird' has been returned.\n",
      "Book Name: To Kill a Mockingbird\n",
      "Author: Harper Lee\n",
      "Status: Available\n",
      "The book 'To Kill a Mockingbird' was not borrowed.\n"
     ]
    }
   ],
   "source": [
    "\n",
    "# Example usage\n",
    "book1 = LibraryBox(\"To Kill a Mockingbird\", \"Harper Lee\")\n",
    "book1.display_info()\n",
    "\n",
    "# Borrow the book\n",
    "book1.borrow_book()\n",
    "book1.display_info()\n",
    "\n",
    "# Try to borrow the book again\n",
    "book1.borrow_book()\n",
    "\n",
    "# Return the book\n",
    "book1.return_book()\n",
    "book1.display_info()\n",
    "\n",
    "# Try to return the book again\n",
    "book1.return_book()\n",
    "\n"
   ]
  },
  {
   "cell_type": "code",
   "execution_count": 13,
   "id": "d7b93ec3",
   "metadata": {},
   "outputs": [
    {
     "name": "stdout",
     "output_type": "stream",
     "text": [
      "Account balance is 1000.\n",
      "Deposited 200. New balance is 1200.\n",
      "Withdrew 150. New balance is 1050.\n",
      "Account balance is 1050.\n",
      "Deposited 10.5. New balance is 1060.5.\n",
      "Account balance is 1060.5.\n",
      "Interest added. New balance is 1060.5.\n",
      "Account balance is 500.\n",
      "Deposited 300. New balance is 800.\n",
      "Account balance is 800.\n",
      "Account balance is 800.\n",
      "Withdrew 700. New balance is 100.\n",
      "Account balance is 100.\n",
      "Account balance is 100.\n",
      "Overdraft used: 100.\n",
      "Invalid withdrawal amount or insufficient funds.\n"
     ]
    }
   ],
   "source": [
    "## Create a simple banking system using object oriented concept in python design classes representing different type of bank \n",
    "##account such as saving and checking implement methods for deposit withdraw and balance inquiry utilize inheritance to manage\n",
    "#different account types efficiently\n",
    "\n",
    "class BankAccount:\n",
    "    def __init__(self, account_number, account_holder, balance=0):\n",
    "        self.__account_number = account_number\n",
    "        self.__account_holder = account_holder\n",
    "        self.__balance = balance\n",
    "\n",
    "    # Getter for account number\n",
    "    def get_account_number(self):\n",
    "        return self.__account_number\n",
    "\n",
    "    # Getter for account holder\n",
    "    def get_account_holder(self):\n",
    "        return self.__account_holder\n",
    "\n",
    "    # Method to deposit money\n",
    "    def deposit(self, amount):\n",
    "        if amount > 0:\n",
    "            self.__balance += amount\n",
    "            print(f\"Deposited {amount}. New balance is {self.__balance}.\")\n",
    "        else:\n",
    "            print(\"Invalid deposit amount.\")\n",
    "\n",
    "    # Method to withdraw money\n",
    "    def withdraw(self, amount):\n",
    "        if 0 < amount <= self.__balance:\n",
    "            self.__balance -= amount\n",
    "            print(f\"Withdrew {amount}. New balance is {self.__balance}.\")\n",
    "        else:\n",
    "            print(\"Invalid withdrawal amount or insufficient funds.\")\n",
    "\n",
    "    # Method to check balance\n",
    "    def check_balance(self):\n",
    "        print(f\"Account balance is {self.__balance}.\")\n",
    "        return self.__balance\n",
    "\n",
    "# SavingsAccount class inherits from BankAccount\n",
    "class SavingsAccount(BankAccount):\n",
    "    def __init__(self, account_number, account_holder, balance=0, interest_rate=0.01):\n",
    "        super().__init__(account_number, account_holder, balance)\n",
    "        self.__interest_rate = interest_rate\n",
    "\n",
    "    # Method to add interest\n",
    "    def add_interest(self):\n",
    "        interest = self.check_balance() * self.__interest_rate\n",
    "        self.deposit(interest)\n",
    "        print(f\"Interest added. New balance is {self.check_balance()}.\")\n",
    "\n",
    "# CheckingAccount class inherits from BankAccount\n",
    "class CheckingAccount(BankAccount):\n",
    "    def __init__(self, account_number, account_holder, balance=0, overdraft_limit=100):\n",
    "        super().__init__(account_number, account_holder, balance)\n",
    "        self.__overdraft_limit = overdraft_limit\n",
    "\n",
    "    # Overriding withdraw method to include overdraft limit\n",
    "    def withdraw(self, amount):\n",
    "        if 0 < amount <= self.check_balance() + self.__overdraft_limit:\n",
    "            new_balance = self.check_balance() - amount\n",
    "            if new_balance < 0:\n",
    "                overdraft = abs(new_balance)\n",
    "                print(f\"Overdraft used: {overdraft}.\")\n",
    "            super().withdraw(amount)\n",
    "        else:\n",
    "            print(\"Invalid withdrawal amount or exceeds overdraft limit.\")\n",
    "\n",
    "# Example usage\n",
    "# Create a Savings Account\n",
    "savings_account = SavingsAccount(\"SA123\", \"pooja\", 1000)\n",
    "savings_account.check_balance()\n",
    "savings_account.deposit(200)\n",
    "savings_account.withdraw(150)\n",
    "savings_account.add_interest()\n",
    "\n",
    "# Create a Checking Account\n",
    "checking_account = CheckingAccount(\"CA123\", \"gaurav\", 500)\n",
    "checking_account.check_balance()\n",
    "checking_account.deposit(300)\n",
    "checking_account.withdraw(700)\n",
    "checking_account.withdraw(200)"
   ]
  },
  {
   "cell_type": "code",
   "execution_count": null,
   "id": "02ff1356",
   "metadata": {},
   "outputs": [],
   "source": [
    "Create a simple banking system using object oriented concept in python design classes representing different type of bank \n",
    "account such as saving and checking implement methods for deposit withdraw and balance inquiry utilize inheritance to manage\n",
    "different account types efficiently\n",
    "1. define base class For bank account with common attribute and methods\n",
    "2. Implement subclass for specific account type examples saving account checking account\n",
    "3. Provide method for deposit withdraw and balancing query in its subclass\n",
    "4. Taste the bank system by creating instances of different account type and performing transactions"
   ]
  },
  {
   "cell_type": "code",
   "execution_count": null,
   "id": "afd3d120",
   "metadata": {},
   "outputs": [],
   "source": [
    "class BankAccount:\n",
    "    def __init__(self, account_number, account_holder, balance=0.0):\n",
    "        self.__account_number = account_number\n",
    "        self.__account_holder = account_holder\n",
    "        self.__balance = balance\n",
    "\n",
    "    # Getter for account number\n",
    "    def get_account_number(self):\n",
    "        return self.__account_number\n",
    "\n",
    "    # Getter for account holder\n",
    "    def get_account_holder(self):\n",
    "        return self.__account_holder\n",
    "\n",
    "    # Getter for balance\n",
    "    def get_balance(self):\n",
    "        return self.__balance\n",
    "\n",
    "    # Method for deposit\n",
    "    def deposit(self, amount):\n",
    "        if amount > 0:\n",
    "            self.__balance += amount\n",
    "            print(f\"Deposited ${amount}. New balance is ${self.__balance}.\")\n",
    "        else:\n",
    "            print(\"Deposit amount must be positive.\")\n",
    "\n",
    "   \n",
    "    def withdraw(self, amount):\n",
    "        if amount > 0:\n",
    "            if amount <= self.__balance:\n",
    "                self.__balance -= amount\n",
    "                print(f\"Withdrew ${amount}. New balance is ${self.__balance}.\")\n",
    "            else:\n",
    "                print(\"Insufficient funds.\")\n",
    "        else:\n",
    "            print(\"Withdrawal amount must be positive.\")\n",
    "\n",
    "    def balance_inquiry(self):\n",
    "        print(f\"Account balance: ${self.__balance}\")\n",
    "        \n",
    "        \n",
    "        \n",
    "        \n",
    "        \n",
    "class SavingAccount(BankAccount):\n",
    "    def __init__(self, account_number, account_holder, balance=0.0, interest_rate=0.01):\n",
    "        super().__init__(account_number, account_holder, balance)\n",
    "        self.__interest_rate = interest_rate\n",
    "\n",
    "    # Method to add interest\n",
    "    def add_interest(self):\n",
    "        interest = self.get_balance() * self.__interest_rate\n",
    "        self.deposit(interest)\n",
    "        print(f\"Interest added: ${interest}. New balance is ${self.get_balance()}.\")\n",
    "\n",
    "class CheckingAccount(BankAccount):\n",
    "    def __init__(self, account_number, account_holder, balance=0.0, overdraft_limit=500):\n",
    "        super().__init__(account_number, account_holder, balance)\n",
    "        self.__overdraft_limit = overdraft_limit\n",
    "\n",
    "    # Overriding withdraw method to allow overdraft\n",
    "    def withdraw(self, amount):\n",
    "        if amount > 0:\n",
    "            if amount <= self.get_balance() + self.__overdraft_limit:\n",
    "                new_balance = self.get_balance() - amount\n",
    "                # Directly setting balance for simplicity, not recommended in practice\n",
    "                self._BankAccount__balance = new_balance\n",
    "                print(f\"Withdrew ${amount}. New balance is ${self.get_balance()}.\")\n",
    "            else:\n",
    "                print(\"Exceeds overdraft limit.\")\n",
    "        else:\n",
    "            print(\"Withdrawal amount must be positive.\")"
   ]
  },
  {
   "cell_type": "code",
   "execution_count": null,
   "id": "f7842275",
   "metadata": {},
   "outputs": [],
   "source": [
    "## define the class animal with a method mech sound creates a subclass dog and cat that override the make sound method \n",
    "implement the sound generation logic for each subclass test the python by creating instances of dog and cat and calling \n",
    "the make sound method"
   ]
  },
  {
   "cell_type": "code",
   "execution_count": 24,
   "id": "ce564f22",
   "metadata": {},
   "outputs": [
    {
     "name": "stdout",
     "output_type": "stream",
     "text": [
      "Dog makes sound:\n",
      "Woof! Woof!\n",
      "Cat makes sound:\n",
      "Meow! Meow!\n"
     ]
    }
   ],
   "source": [
    "class Animal:\n",
    "    def make_sound(self):\n",
    "        print(\"This animal makes a sound.\")\n",
    "\n",
    "class Dog(Animal):\n",
    "    def make_sound(self):\n",
    "        print(\"Woof! Woof!\")\n",
    "\n",
    "class Cat(Animal):\n",
    "    def make_sound(self):\n",
    "        print(\"Meow! Meow!\")\n",
    "\n",
    "\n",
    "def main():\n",
    "    dog = Dog()\n",
    "    cat = Cat()\n",
    "\n",
    "    print(\"Dog makes sound:\")\n",
    "    dog.make_sound()\n",
    "\n",
    "    print(\"Cat makes sound:\")\n",
    "    cat.make_sound()\n",
    "\n",
    "if __name__ == \"__main__\":\n",
    "    main()"
   ]
  },
  {
   "cell_type": "markdown",
   "id": "4f1604c9",
   "metadata": {},
   "source": [
    "## Q.Define a python model name constants.Py containing constraints like pi and speed of light"
   ]
  },
  {
   "cell_type": "code",
   "execution_count": 25,
   "id": "a021c7cf",
   "metadata": {},
   "outputs": [],
   "source": [
    "with open('constants.py', 'w') as file:\n",
    "    file.write(\"\"\"\n",
    "# constants.py\n",
    "\n",
    "PI = 3.141592653589793\n",
    "SPEED_OF_LIGHT = 299792458  # m/s\n",
    "\"\"\")"
   ]
  },
  {
   "cell_type": "code",
   "execution_count": 26,
   "id": "5fe5d8bb",
   "metadata": {},
   "outputs": [
    {
     "name": "stdout",
     "output_type": "stream",
     "text": [
      "Circumference of a circle with radius 5 is 31.41592653589793\n",
      "Time to travel 1000000000.0 meters at the speed of light is 3.3356409519815204 seconds\n"
     ]
    }
   ],
   "source": [
    "from constants import PI, SPEED_OF_LIGHT\n",
    "\n",
    "def calculate_circumference(radius):\n",
    "    return 2 * PI * radius\n",
    "\n",
    "def time_to_travel(distance):\n",
    "    return distance / SPEED_OF_LIGHT\n",
    "\n",
    "def main():\n",
    "    radius = 5\n",
    "    distance = 1e9  # 1 billion meters\n",
    "\n",
    "    circumference = calculate_circumference(radius)\n",
    "    travel_time = time_to_travel(distance)\n",
    "\n",
    "    print(f\"Circumference of a circle with radius {radius} is {circumference}\")\n",
    "    print(f\"Time to travel {distance} meters at the speed of light is {travel_time} seconds\")\n",
    "\n",
    "if __name__ == \"__main__\":\n",
    "    main()"
   ]
  },
  {
   "cell_type": "code",
   "execution_count": null,
   "id": "195f395a",
   "metadata": {},
   "outputs": [],
   "source": [
    "## Q.12 python module write a python model named calculator. PY containing functions for addition subtraction\n",
    "##multiplication and division"
   ]
  },
  {
   "cell_type": "code",
   "execution_count": 27,
   "id": "28b08503",
   "metadata": {},
   "outputs": [],
   "source": [
    "with open('calculator.py', 'w') as file:\n",
    "    file.write(\"\"\"\n",
    "def add(a, b):\n",
    "    \\\"\\\"\\\"Return the sum of a and b.\\\"\\\"\\\"\n",
    "    return a + b\n",
    "\n",
    "def subtract(a, b):\n",
    "    \\\"\\\"\\\"Return the difference of a and b.\\\"\\\"\\\"\n",
    "    return a - b\n",
    "\n",
    "def multiply(a, b):\n",
    "    \\\"\\\"\\\"Return the product of a and b.\\\"\\\"\\\"\n",
    "    return a * b\n",
    "\n",
    "def divide(a, b):\n",
    "    \\\"\\\"\\\"Return the division of a by b. Raise an error if b is zero.\\\"\\\"\\\"\n",
    "    if b == 0:\n",
    "        raise ValueError(\"Division by zero is not allowed.\")\n",
    "    return a / b\n",
    "\"\"\")"
   ]
  },
  {
   "cell_type": "code",
   "execution_count": 31,
   "id": "83e06438",
   "metadata": {},
   "outputs": [
    {
     "name": "stdout",
     "output_type": "stream",
     "text": [
      "15\n",
      "5\n",
      "50\n",
      "2.0\n"
     ]
    }
   ],
   "source": [
    "import calculator\n",
    "\n",
    "def main():\n",
    "    a = 10\n",
    "    b = 5\n",
    "\n",
    "    addition = calculator.add(a, b)\n",
    "    subtraction = calculator.subtract(a, b)\n",
    "    multiplication = calculator.multiply(a, b)\n",
    "    try:\n",
    "        division = calculator.divide(a, b)\n",
    "    except ValueError as e:\n",
    "        division = str(e)\n",
    " \n",
    "    print(addition )\n",
    "    print(subtraction)\n",
    "    print(multiplication)\n",
    "    print(division)\n",
    "\n",
    "if __name__ == \"__main__\":\n",
    "    main()"
   ]
  },
  {
   "cell_type": "markdown",
   "id": "41682836",
   "metadata": {},
   "source": [
    "## Implement python package structure for a project name ecommerce containing module for product management and order processing"
   ]
  },
  {
   "cell_type": "code",
   "execution_count": 1,
   "id": "81004062",
   "metadata": {},
   "outputs": [
    {
     "ename": "SyntaxError",
     "evalue": "invalid character '│' (U+2502) (1186339105.py, line 2)",
     "output_type": "error",
     "traceback": [
      "\u001b[1;36m  Cell \u001b[1;32mIn[1], line 2\u001b[1;36m\u001b[0m\n\u001b[1;33m    │\u001b[0m\n\u001b[1;37m    ^\u001b[0m\n\u001b[1;31mSyntaxError\u001b[0m\u001b[1;31m:\u001b[0m invalid character '│' (U+2502)\n"
     ]
    }
   ],
   "source": [
    "ecommerce/\n",
    "│\n",
    "├── ecommerce/\n",
    "│   ├── __init__.py\n",
    "│   ├── product_management/\n",
    "│   │   ├── __init__.py\n",
    "│   │   ├── product.py\n",
    "│   │   ├── inventory.py\n",
    "│   ├── order_processing/\n",
    "│   │   ├── __init__.py\n",
    "│   │   ├── order.py\n",
    "│   │   ├── payment.py\n",
    "│   └── utils/\n",
    "│       ├── __init__.py\n",
    "│       ├── logger.py\n",
    "│       ├── db_utils.py\n",
    "│\n",
    "├── tests/\n",
    "│   ├── __init__.py\n",
    "│   ├── test_product_management.py\n",
    "│   ├── test_order_processing.py\n",
    "│\n",
    "├── setup.py\n",
    "├── requirements.txt\n",
    "└── README.md"
   ]
  },
  {
   "cell_type": "markdown",
   "id": "e794b9a7",
   "metadata": {},
   "source": [
    "## Implement a python model named string_utils.Py containing functions for string manipulation such as reversing and capitalizing string"
   ]
  },
  {
   "cell_type": "code",
   "execution_count": 4,
   "id": "2cfa79f4",
   "metadata": {},
   "outputs": [
    {
     "ename": "SyntaxError",
     "evalue": "invalid character '├' (U+251C) (3535681939.py, line 2)",
     "output_type": "error",
     "traceback": [
      "\u001b[1;36m  Cell \u001b[1;32mIn[4], line 2\u001b[1;36m\u001b[0m\n\u001b[1;33m    ├── ecommerce/\u001b[0m\n\u001b[1;37m    ^\u001b[0m\n\u001b[1;31mSyntaxError\u001b[0m\u001b[1;31m:\u001b[0m invalid character '├' (U+251C)\n"
     ]
    }
   ],
   "source": [
    "ecommerce/\n",
    "├── ecommerce/\n",
    "│   ├── __init__.py\n",
    "│   ├── product_management/\n",
    "│   ├── order_processing/\n",
    "│   ├── utils/\n",
    "│   │   ├── __init__.py\n",
    "│   │   ├── logger.py\n",
    "│   │   ├── db_utils.py\n",
    "│   │   ├── string_utils.py\n",
    "..."
   ]
  },
  {
   "cell_type": "code",
   "execution_count": 17,
   "id": "40b3a9c9",
   "metadata": {},
   "outputs": [],
   "source": [
    "# string_utils.py\n",
    "with open('string_utils.py', 'w') as file:\n",
    "    file.write(\"\"\"\n",
    "def reverse_string(s: str) -> str:\n",
    "    \n",
    "   ## Reverses the given string.\n",
    "  \n",
    "    return s[::-1]\n",
    "\n",
    "def capitalize_string(s: str) -> str:\n",
    "   \n",
    "    ##Capitalizes the first character of each word in the given string.\n",
    "\n",
    "    \n",
    "    return s.title()\n",
    "\n",
    "def to_uppercase(s: str) -> str:\n",
    "  \n",
    "    ##Converts all characters in the string to uppercase.\n",
    "\n",
    "   \n",
    "    return s.upper()\n",
    "\n",
    "def to_lowercase(s: str) -> str:\n",
    "   \n",
    "    ##Converts all characters in the string to lowercase.\n",
    "\n",
    "   \n",
    "    return s.lower()\n",
    "\n",
    "def is_palindrome(s: str) -> bool:\n",
    "    \n",
    "    ##Checks if the given string is a palindrome.\n",
    "\n",
    "   \n",
    "    reversed_s = reverse_string(s)\n",
    "    return s == reversed_s \"\"\")"
   ]
  },
  {
   "cell_type": "code",
   "execution_count": 18,
   "id": "c35e65a2",
   "metadata": {},
   "outputs": [
    {
     "name": "stdout",
     "output_type": "stream",
     "text": [
      "dlrow olleh\n",
      "Hello World\n"
     ]
    }
   ],
   "source": [
    "from string_utils import reverse_string, capitalize_string\n",
    "\n",
    "reversed_text = reverse_string(\"hello world\")\n",
    "capitalized_text = capitalize_string(\"hello world\")\n",
    "\n",
    "print(reversed_text)  # Output: \"dlrow olleh\"\n",
    "print(capitalized_text)  # Output: \"Hello World\"\n"
   ]
  },
  {
   "cell_type": "markdown",
   "id": "b8ec9262",
   "metadata": {},
   "source": [
    "## Write a python module named file operations .Py with functions for reading writing and appending data to a file"
   ]
  },
  {
   "cell_type": "code",
   "execution_count": 28,
   "id": "9ea67fac",
   "metadata": {},
   "outputs": [],
   "source": [
    "with open('file_operations.py', 'w') as file:\n",
    "    file.write(\"\"\"\n",
    "def read_file(http://localhost:8888/edit/text.txt: str) -> str:\n",
    "    \n",
    "    try:\n",
    "        with open(http://localhost:8888/edit/text.txt, 'r') as file:\n",
    "            return file.read()\n",
    "    except FileNotFoundError:\n",
    "        return f\"The file at {file_path} was not found.\"\n",
    "    except Exception as e:\n",
    "        return str(e)\n",
    "\n",
    "def write_to_file(http://localhost:8888/edit/text.txt: str, data: str) -> None:\n",
    "  \n",
    "    try:\n",
    "        with open(file_path, 'w') as file:\n",
    "            file.write(data)\n",
    "    except Exception as e:\n",
    "        print(f\"An error occurred: {e}\")\n",
    "\n",
    "def append_to_file(http://localhost:8888/edit/text.txt: str, data: str) -> None:\n",
    "    \n",
    "    try:\n",
    "        with open(http://localhost:8888/edit/text.txt, 'a') as file:\n",
    "            file.write(data)\n",
    "    except Exception as e:\n",
    "        print(f\"An error occurred: {e}\")\n",
    "        \"\"\")"
   ]
  },
  {
   "cell_type": "code",
   "execution_count": 29,
   "id": "eeefd2ec",
   "metadata": {},
   "outputs": [
    {
     "name": "stdout",
     "output_type": "stream",
     "text": [
      "name 'text' is not defined\n"
     ]
    }
   ],
   "source": [
    "from file_operations import read_file, write_to_file, append_to_file\n",
    "\n",
    "# Writing data to a file\n",
    "write_to_file('text.txt', 'This is an example.')\n",
    "\n",
    "# Reading data from a file\n",
    "content = read_file('text.txt')\n",
    "print(content)  # Output: \"This is an example.\"\n",
    "\n",
    "# Appending data to a file\n",
    "append_to_file('text.txt', ' Appending more data.')"
   ]
  },
  {
   "cell_type": "markdown",
   "id": "bafce5ad",
   "metadata": {},
   "source": [
    "## write python program to create a text file named employee.txt and write the details of employees including their name age and salary into the file ."
   ]
  },
  {
   "cell_type": "code",
   "execution_count": 34,
   "id": "541a6855",
   "metadata": {},
   "outputs": [
    {
     "name": "stdout",
     "output_type": "stream",
     "text": [
      "Employee details have been written to employee.txt.\n"
     ]
    }
   ],
   "source": [
    "def write_employee_details(file_path: str, employees: list) -> None:\n",
    "    \n",
    "    try:\n",
    "        with open(file_path, 'w') as file:\n",
    "            file.write(\"Name\\tAge\\tSalary\\n\")\n",
    "            for employee in employees:\n",
    "                file.write(f\"{employee['name']}\\t{employee['age']}\\t{employee['salary']}\\n\")\n",
    "        print(f\"Employee details have been written to {file_path}.\")\n",
    "    except Exception as e:\n",
    "        print(f\"An error occurred: {e}\")\n",
    "\n",
    "# Sample employee data\n",
    "employees = [\n",
    "    {'name': 'Alice', 'age': 30, 'salary': 70000},\n",
    "    {'name': 'Bob', 'age': 25, 'salary': 50000},\n",
    "    {'name': 'Charlie', 'age': 35, 'salary': 60000}\n",
    "]\n",
    "\n",
    "# Path to the file\n",
    "file_path = 'employee.txt'\n",
    "\n",
    "# Writing employee details to the file\n",
    "write_employee_details(file_path, employees)"
   ]
  },
  {
   "cell_type": "markdown",
   "id": "2d3710bd",
   "metadata": {},
   "source": [
    "## Develop a python script that open an existing text file named inventory.txt in read more and display the container of the file line by line"
   ]
  },
  {
   "cell_type": "code",
   "execution_count": 35,
   "id": "69739647",
   "metadata": {},
   "outputs": [
    {
     "name": "stdout",
     "output_type": "stream",
     "text": [
      "Name\tAge\tSalary\n",
      "Alice\t30\t70000\n",
      "Bob\t25\t50000\n",
      "Charlie\t35\t60000\n"
     ]
    }
   ],
   "source": [
    "def display_inventory(file_path: str) -> None:\n",
    "    \n",
    "    try:\n",
    "        with open(file_path, 'r') as file:\n",
    "            for line in file:\n",
    "                print(line.strip())  # strip() removes the newline character at the end of each line\n",
    "    except FileNotFoundError:\n",
    "        print(f\"The file '{file_path}' was not found.\")\n",
    "    except Exception as e:\n",
    "        print(f\"An error occurred: {e}\")\n",
    "\n",
    "# Path to the inventory file\n",
    "file_path = 'employee.txt'\n",
    "\n",
    "# Displaying the contents of the file\n",
    "display_inventory(file_path)"
   ]
  },
  {
   "cell_type": "markdown",
   "id": "ba70451a",
   "metadata": {},
   "source": [
    "## create a python script that reads a text file name expenses .txt and calculate the total amount spent on various expenses listed in the file"
   ]
  },
  {
   "cell_type": "code",
   "execution_count": 42,
   "id": "ade182fe",
   "metadata": {},
   "outputs": [
    {
     "name": "stdout",
     "output_type": "stream",
     "text": [
      "Total amount spent: 0\n"
     ]
    }
   ],
   "source": [
    "def calculate_total_expenses(file_path: str) -> float:\n",
    "   \n",
    "    total = 0\n",
    "    try:\n",
    "        with open(file_path, 'r') as file:\n",
    "            for line in file:\n",
    "                try:\n",
    "                    # Split line into description and amount\n",
    "                    parts = line.split()\n",
    "                    if len(parts) == 2:\n",
    "                        amount = float(parts[1])\n",
    "                        total += amount\n",
    "                    else:\n",
    "                        print(f\"Invalid format in line: {line}\")\n",
    "                except ValueError:\n",
    "                    print(f\"Invalid number in line: {line}\")\n",
    "    except FileNotFoundError:\n",
    "        print(f\"The file '{file_path}' was not found.\")\n",
    "    except Exception as e:\n",
    "        print(f\"An error occurred: {e}\")\n",
    "    return total\n",
    "\n",
    "# Path to the expenses file\n",
    "file_path = 'expenses.txt'\n",
    "\n",
    "# Calculating the total expenses\n",
    "total_expenses = calculate_total_expenses(file_path)\n",
    "print(f\"Total amount spent: {total_expenses}\")"
   ]
  },
  {
   "cell_type": "markdown",
   "id": "ad3587c0",
   "metadata": {},
   "source": [
    "## create a python program date reads a text file named paragraph .Tx 3 encounter the occurrence of each word in the paragraph displaying the result in alphabetical order"
   ]
  },
  {
   "cell_type": "markdown",
   "id": "6f63a019",
   "metadata": {},
   "source": [
    "## ML Question"
   ]
  },
  {
   "cell_type": "markdown",
   "id": "dc65ce16",
   "metadata": {},
   "source": [
    "## 20.What do you mean by measures of central tendency and measures of dispersion how it can be calculated"
   ]
  },
  {
   "cell_type": "code",
   "execution_count": null,
   "id": "228d5557",
   "metadata": {},
   "outputs": [],
   "source": [
    "Ans. Measures of Central Tendency\n",
    "These measures indicate the central or typical value of a dataset.\n",
    "\n",
    "Mean (Average):\n",
    "\n",
    "The sum of all the values divided by the number of values.\n",
    " \n",
    "Example: For the dataset [3, 7, 5], the mean is \n",
    "\n",
    "Median:\n",
    "\n",
    "The middle value when the data is sorted in ascending or descending order.\n",
    "If the number of observations is odd, the median is the middle number. If even, it's the average of the two middle numbers.\n",
    "Example: For the dataset [3, 7, 5], sorted as [3, 5, 7], the median is 5.\n",
    "Mode:\n",
    "\n",
    "The value that appears most frequently in the dataset.\n",
    "A dataset can have one mode, more than one mode, or no mode at all.\n",
    "Example: For the dataset [2, 4, 4, 6], the mode is 4."
   ]
  },
  {
   "cell_type": "code",
   "execution_count": null,
   "id": "5721e755",
   "metadata": {},
   "outputs": [],
   "source": [
    "Measures of Dispersion\n",
    "These measures indicate the spread or variability of the dataset.\n",
    "\n",
    "Range:\n",
    "\n",
    "The difference between the maximum and minimum values.\n",
    "Formula: \n",
    "Range=Maximum−Minimum\n",
    "Range=Maximum−Minimum\n",
    "Example: For the dataset [3, 7, 5], the range is \n",
    "7−3=4\n",
    "Variance:\n",
    "\n",
    "The average of the squared differences from the mean.\n",
    "Formula: \n",
    "Variance=∑(𝑥𝑖-Mean)**2/𝑛\n",
    "Variance= n∑(xi −Mean)**2/n-1\n",
    " \n",
    "​\n",
    "  for population variance or \n",
    "∑\n",
    "(\n",
    "𝑥\n",
    "𝑖\n",
    "−\n",
    "Mean\n",
    ")\n",
    "2\n",
    "𝑛\n",
    "−\n",
    "1\n",
    "n−1\n",
    "∑(x \n",
    "i\n",
    "​\n",
    " −Mean) \n",
    "2\n",
    " \n",
    "​\n",
    "  for sample variance.\n",
    "\n",
    "\n",
    " .\n",
    "Standard Deviation:\n",
    "\n",
    "The square root of the variance, representing the average amount each data point differs from the mean.\n",
    "Formula: \n",
    "Standard Deviation\n",
    "=\n",
    "Variance\n",
    "Standard Deviation= \n",
    "Variance\n",
    "​\n",
    " \n",
    "\n",
    " .\n",
    "Interquartile Range (IQR):\n",
    "\n",
    "The difference between the third quartile (Q3) and the first quartile (Q1), representing the range of the middle 50% of the data.\n",
    "Formula: \n",
    "IQR=𝑄3−𝑄1\n",
    "IQR=Q3−Q1\n"
   ]
  },
  {
   "cell_type": "markdown",
   "id": "6034acf6",
   "metadata": {},
   "source": [
    "## Q.21 What do you mean by skewness explain its type use graph to show"
   ]
  },
  {
   "cell_type": "code",
   "execution_count": null,
   "id": "e171ff5e",
   "metadata": {},
   "outputs": [],
   "source": [
    "\n",
    "Skewness is a statistical measure that describes the asymmetry of a distribution. It indicates whether the data points in a dataset are spread more to the left or right of the mean.\n",
    "\n",
    "Types of Skewness\n",
    "Positive Skewness (Right Skewness):\n",
    "\n",
    "The tail on the right side of the distribution is longer or fatter than the left side.\n",
    "Most data points are concentrated on the left, and the mean is greater than the median.\n",
    "Example: Income distributions are often positively skewed because a small number of people earn significantly more than the rest.\n",
    "Negative Skewness (Left Skewness):\n",
    "\n",
    "The tail on the left side of the distribution is longer or fatter than the right side.\n",
    "Most data points are concentrated on the right, and the mean is less than the median.\n",
    "Example: Age at retirement, as more people retire at the typical age, and fewer people retire earlier or later.\n",
    "Zero Skewness (Symmetric Distribution):\n",
    "\n",
    "The data is evenly distributed on both sides of the mean.\n",
    "The mean, median, and mode are all equal.\n",
    "Example: A perfectly symmetrical bell curve, such as the normal distribution.\n"
   ]
  },
  {
   "cell_type": "markdown",
   "id": "bf314b94",
   "metadata": {},
   "source": [
    "## Q.Explain probability mass function and probability density function and what is the difference between them"
   ]
  },
  {
   "cell_type": "code",
   "execution_count": null,
   "id": "bb5cb37b",
   "metadata": {},
   "outputs": [],
   "source": [
    "Probability Mass Function (PMF) and Probability Density Function (PDF) are both concepts in probability theory used to describe the distribution of random variables. However, they apply to different types of random variables: discrete and continuous, respectively.\n",
    "\n",
    "Probability Mass Function (PMF)\n",
    "Definition: The PMF describes the probability of a discrete random variable taking on a particular value.\n",
    "Applicable To: Discrete random variables (e.g., the number of heads in a series of coin flips, the number of students\n",
    "                                          in a class\n",
    "                                          \n",
    "                                          \n",
    "                                          \n",
    "Probability Density Function (PDF)\n",
    "Definition: The PDF describes the probability density of a continuous random variable at a particular value. Unlike the PMF, the PDF does not give the probability at a specific point; instead, it provides the relative likelihood of the variable falling within a particular interval.\n",
    "Applicable To: Continuous random variables (e.g., height, weight, time)."
   ]
  },
  {
   "cell_type": "code",
   "execution_count": null,
   "id": "77bb1b9e",
   "metadata": {},
   "outputs": [],
   "source": [
    "## Q.2 What is correlation explain its type in retail what are the methods to determine correlation"
   ]
  },
  {
   "cell_type": "code",
   "execution_count": null,
   "id": "368e7085",
   "metadata": {},
   "outputs": [],
   "source": [
    "Correlation is a statistical measure that describes the strength and direction of a relationship between two variables. In retail, correlation can help understand how changes in one factor (such as pricing, promotions, or seasonality) might relate to changes in another factor (such as sales volume or customer traffic).\n",
    "\n",
    "Types of Correlation\n",
    "Positive Correlation:\n",
    "\n",
    "Both variables move in the same direction. As one variable increases, the other also increases, and vice versa.\n",
    "Example in retail: An increase in advertising spend may be positively correlated with an increase in sales.\n",
    "Negative Correlation:\n",
    "\n",
    "The variables move in opposite directions. As one variable increases, the other decreases.\n",
    "Example in retail: An increase in the price of a product might be negatively correlated with the quantity sold.\n",
    "No Correlation:\n",
    "\n",
    "There is no discernible relationship between the variables; changes in one do not predict changes in the other.\n",
    "Example in retail: The amount of ice cream sold may have no correlation with the number of shoes sold."
   ]
  },
  {
   "cell_type": "code",
   "execution_count": null,
   "id": "406b3b5d",
   "metadata": {},
   "outputs": [],
   "source": [
    "Methods to Determine Correlation\n",
    "In retail, various methods can be used to determine correlation, each with its own application and interpretation.\n",
    "\n",
    "Pearson Correlation Coefficient:\n",
    "\n",
    "Measures the linear relationship between two continuous variables.\n",
    "Values range from -1 to 1, where -1 indicates a perfect negative linear correlation, 0 indicates no linear correlation, and 1 indicates a perfect positive linear correlation.\n",
    "\n",
    "Example: Used to find the correlation between advertising spend and sales revenue.\n",
    "Spearman's Rank Correlation:\n",
    "\n",
    "Measures the strength and direction of the relationship between two ranked variables.\n",
    "Suitable for ordinal data or continuous data that is not normally distributed.\n",
    "Values range from -1 to 1, similar to Pearson's coefficient.\n",
    "Example: Used to rank customer satisfaction scores and correlate them with customer retention rates.\n",
    "Kendall's Tau:\n",
    "\n",
    "Measures the strength of association between two variables based on the ranks of the data.\n",
    "Suitable for small sample sizes or data with many tied ranks.\n",
    "Values range from -1 to 1.\n",
    "Example: Used to analyze the correlation between the ranks of customer preferences and the actual sales ranks of products.\n",
    "Chi-Square Test for Independence:\n",
    "\n",
    "Used to determine the relationship between two categorical variables.\n",
    "Example: Used to analyze the correlation between store location (urban, suburban, rural) and the preferred payment method (cash, credit, digital)."
   ]
  },
  {
   "cell_type": "markdown",
   "id": "762f94f4",
   "metadata": {},
   "source": [
    "## Q. 24 Calculate coefficients of correlation between the Marx obtained by 10 student in accountancy and statistics"
   ]
  },
  {
   "cell_type": "code",
   "execution_count": null,
   "id": "6a9c222a",
   "metadata": {},
   "outputs": [],
   "source": [
    "Ans.The Pearson Correlation Coefficient 𝑟\n",
    "r between the marks obtained by the 10 students in Accountancy and Statistics is approximately 0.903. This indicates a strong\n",
    "positive linear relationship between the two sets of marks, suggesting that students who scored higher in Accountancy also \n",
    "tended to score higher in Statistics, and vice versa"
   ]
  },
  {
   "cell_type": "code",
   "execution_count": null,
   "id": "10ae7cd3",
   "metadata": {},
   "outputs": [],
   "source": [
    "## Q. Discuss the four differences between core relation and regression"
   ]
  },
  {
   "cell_type": "code",
   "execution_count": null,
   "id": "5e516733",
   "metadata": {},
   "outputs": [],
   "source": [
    "1.Correlation:\n",
    "\n",
    "Purpose: Measures the strength and direction of the linear relationship between two variables.\n",
    "1. Regression:\n",
    "\n",
    "Purpose: Establishes a mathematical model to describe the relationship between an independent variable (predictor) and a \n",
    "dependent variable (response).\n",
    "\n",
    "2.Correlation:\n",
    "\n",
    "Output: The correlation coefficient (Pearson's 𝑟r) ranges from -1 to 1, indicating the strength and direction of the\n",
    "relationship.\n",
    "Interpretation: Values close to 1 or -1 indicate a strong positive or negative relationship, respectively. A value of 0\n",
    "indicates no linear relationship.\n",
    "2.Regression:\n",
    "\n",
    "Output: A regression equation of the form \n",
    "\n",
    "Y=mx+c, where \n",
    "\n",
    "3.Correlation:\n",
    "\n",
    "Units: The correlation coefficient is a unitless measure and is not affected by the scale of the variables\n",
    "                    \n",
    "3.Regression:\n",
    "\n",
    "Units: The slope in a regression equation has units, representing the change in the dependent variable per unit change in \n",
    "the independent variable.\n",
    "                                     \n",
    "4.Correlation:\n",
    "\n",
    "Symmetry: The correlation coefficient is symmetric, meaning the correlation between \n",
    "\n",
    "4.Regression:\n",
    "\n",
    "Asymmetry: Regression is not symmetric. The regression of \n"
   ]
  },
  {
   "cell_type": "code",
   "execution_count": null,
   "id": "2ccbb11c",
   "metadata": {},
   "outputs": [],
   "source": [
    "## Q. what is normal distribution what are the core assumptions of the normal distribution explain it"
   ]
  },
  {
   "cell_type": "code",
   "execution_count": null,
   "id": "d979b209",
   "metadata": {},
   "outputs": [],
   "source": [
    "Normal Distribution, also known as the Gaussian distribution, is a continuous probability distribution that is symmetrical about its mean, showing that data near the mean are more frequent in occurrence than data far from the mean. In graphical form, the normal distribution will appear as a bell curve. It is characterized by two parameters: the mean (µ) and the standard deviation (σ).\n",
    "\n",
    "Key Features of the Normal Distribution\n",
    "Symmetry: The distribution is symmetric about the mean, meaning the left half is a mirror image of the right half.\n",
    "Bell-shaped Curve: The shape of the normal distribution is often referred to as a bell curve due to its bell-like appearance.\n",
    "Mean, Median, and Mode: In a perfectly normal distribution, the mean, median, and mode are all equal and located at the center of the distribution.\n",
    "Asymptotic: The tails of the distribution approach, but never touch, the horizontal axis, meaning the probability of extreme values decreases but never reaches zero.\n",
    "Empirical Rule: Approximately 68% of the data falls within one standard deviation (σ) of the mean, 95% within two standard deviations, and 99.7% within three standard deviations."
   ]
  },
  {
   "cell_type": "code",
   "execution_count": null,
   "id": "a18f963e",
   "metadata": {},
   "outputs": [],
   "source": [
    "## Q.Write all characteristics of the normal distribution curve"
   ]
  },
  {
   "cell_type": "code",
   "execution_count": null,
   "id": "0bf430ee",
   "metadata": {},
   "outputs": [],
   "source": [
    "1. Symmetry\n",
    "The normal distribution curve is perfectly symmetric about its mean. This means that the left half of the curve is a \n",
    "mirror image of the right half.\n",
    "2. Bell-Shaped Curve\n",
    "The curve has a bell shape, which is highest at the mean and tapers off symmetrically on both sides. This shape reflects the \n",
    "fact that data points are most frequent around the mean and less frequent as you move away from the mean.\n",
    "3. Mean, Median, and Mode are Equal\n",
    "In a normal distribution, the mean, median, and mode are all equal and located at the center of the distribution. This central \n",
    "value is where the peak of the curve occurs.\n",
    "4. Asymptotic Nature\n",
    "The tails of the normal distribution curve approach, but never actually touch, the horizontal axis. This means that while the \n",
    "probability of extreme values decreases as you move further from the mean, it never reaches zero.\n",
    "5. Empirical Rule (68-95-99.7 Rule)\n",
    "Approximately 68% of the data falls within one standard deviation of the mean.\n",
    "About 95% of the data falls within two standard deviations of the mean.\n",
    "Around 99.7% of the data falls within three standard deviations of the mean."
   ]
  },
  {
   "cell_type": "code",
   "execution_count": null,
   "id": "0ae24aa8",
   "metadata": {},
   "outputs": [],
   "source": [
    "##.Q Which of the following options are correct about normal distribution"
   ]
  },
  {
   "cell_type": "code",
   "execution_count": null,
   "id": "62899c9e",
   "metadata": {},
   "outputs": [],
   "source": [
    "## Q. The mean of a distribution is 60 with a standard division of 10. assuming that the distribution is normal what\n",
    "percentage of item be 1) between 60 to 72 2) between 50 and 60 3)beyond 72 4) between 70 and 80"
   ]
  },
  {
   "cell_type": "code",
   "execution_count": null,
   "id": "f7ed50c7",
   "metadata": {},
   "outputs": [],
   "source": [
    "\n",
    "\n",
    "𝑍=𝑋−𝜇/𝜎\n",
    "\n",
    "Where:\n",
    "\n",
    "𝑋\n",
    "X is the value from the dataset,\n",
    "𝜇\n",
    "μ is the mean of the distribution, and\n",
    "𝜎\n",
    "σ is the standard deviation.\n",
    "Given:\n",
    "\n",
    "Mean (μ) = 60\n",
    "Standard deviation (σ) = 10\n",
    "We'll calculate the Z-scores and then use standard normal distribution tables (or software) to find the corresponding percentages.\n",
    "\n",
    "1. Percentage of Items Between 60 and 72\n",
    "For \n",
    "𝑋=60\n",
    "𝑍=60−60/10\n",
    "=0\n",
    "\n",
    "For \n",
    "𝑋\n",
    "=\n",
    "72\n",
    "X=72:\n",
    "𝑍=72−60/10\n",
    "=1.2\n",
    "\n",
    "2. Percentage of Items Between 50 and 60\n",
    "For \n",
    "𝑋=50\n",
    "X=50:\n",
    "𝑍=50−60/10\n",
    "=−1\n",
    "\n",
    "\n",
    "For \n",
    "\n",
    "X=60:\n",
    "𝑍\n",
    "=\n",
    "60\n",
    "−\n",
    "60\n",
    "10\n",
    "=\n",
    "0\n",
    "Z= \n",
    "10\n",
    "60−60\n",
    "​\n",
    " =0\n",
    "\n",
    "3. Percentage of Items Beyond 72\n",
    "For \n",
    "𝑋\n",
    "=\n",
    "72\n",
    "X=72:\n",
    "𝑍\n",
    "=\n",
    "72\n",
    "−\n",
    "60\n",
    "10\n",
    "=\n",
    "1.2\n",
    "Z= \n",
    "10\n",
    "72−60\n",
    "​\n",
    " =1.2\n",
    "\n",
    "4. Percentage of Items Between 70 and 80\n",
    "For \n",
    "𝑋\n",
    "=\n",
    "70\n",
    "X=70:\n",
    "𝑍\n",
    "=\n",
    "70\n",
    "−\n",
    "60\n",
    "10\n",
    "=\n",
    "1\n",
    "Z= \n",
    "10\n",
    "70−60\n",
    "​\n",
    " =1\n",
    "\n",
    "For \n",
    "𝑋\n",
    "=\n",
    "80\n",
    "X=80:\n",
    "𝑍\n",
    "=\n",
    "80\n",
    "−\n",
    "60\n",
    "10\n",
    "=\n",
    "2\n",
    "Z= \n",
    "10\n",
    "80−60\n",
    "​\n",
    " =2\n",
    "\n",
    "Let's compute the corresponding percentages using these Z-scores.\n",
    "\n",
    "Here are the percentages of items within the specified ranges in the normal distribution:\n",
    "\n",
    "Between 60 and 72: Approximately 38.49%\n",
    "Between 50 and 60: Approximately 34.13%\n",
    "Beyond 72: Approximately 11.51%\n",
    "Between 70 and 80: Approximately 13.59%"
   ]
  },
  {
   "cell_type": "code",
   "execution_count": null,
   "id": "75609b2a",
   "metadata": {},
   "outputs": [],
   "source": [
    "## Q. 15000 Students set for an examination the mean marks was 49 and the distribution of Marx had a standard division of six \n",
    "assuming that the marks were normally distributed what proportion of student scored 1)more than 55 marks 2)more than 70 marks"
   ]
  },
  {
   "cell_type": "code",
   "execution_count": null,
   "id": "8c52499e",
   "metadata": {},
   "outputs": [],
   "source": [
    "To find the proportion of students scoring above certain marks in a normally distributed dataset, we can convert the given marks into Z-scores and use the standard normal distribution to determine the corresponding probabilities.\n",
    "\n",
    "Given:\n",
    "\n",
    "Mean (\n",
    "𝜇\n",
    "μ): 49\n",
    "Standard deviation (\n",
    "𝜎\n",
    "σ): 6\n",
    "Total students: 15,000\n",
    "Let's calculate the proportion of students scoring:\n",
    "\n",
    "More than 55 marks\n",
    "More than 70 marks\n",
    "1. Proportion of Students Scoring More Than 55 Marks\n",
    "For \n",
    "X=55:\n",
    "𝑍=55−49/6\n",
    "=1\n",
    "\n",
    "2. Proportion of Students Scoring More Than 70 Marks\n",
    "For \n",
    "𝑋\n",
    "=\n",
    "70\n",
    "X=70:\n",
    "𝑍\n",
    "=\n",
    "70\n",
    "−\n",
    "49\n",
    "6\n",
    "=\n",
    "3.5\n",
    "Z= \n",
    "6\n",
    "70−49\n",
    "​\n",
    " =3.5\n",
    "\n",
    "Let's compute the proportions of students scoring more than these marks.\n",
    "\n",
    "The proportions of students scoring more than the specified marks are as follows:"
   ]
  },
  {
   "cell_type": "code",
   "execution_count": null,
   "id": "02fd50cf",
   "metadata": {},
   "outputs": [],
   "source": [
    "## Q.  15,000 student set for an examination the mean marks was 49 and the distribution of Marks had a standard division of six\n",
    "assuming that the marks were normally distributed what proportion of student scored a) more than 55 marks b)more than 70 marks"
   ]
  },
  {
   "cell_type": "code",
   "execution_count": null,
   "id": "fab17306",
   "metadata": {},
   "outputs": [],
   "source": [
    "Mean (𝜇) = 49\n",
    "Standard deviation (𝜎) = 6\n",
    "The number of students = 15,000\n",
    "We'll need to calculate the Z-scores for the given marks and then find the corresponding proportions using the standard normal \n",
    "distribution table.\n",
    "\n",
    "a) Proportion of students who scored more than 55 marks\n",
    "Calculate the Z-score:\n",
    "\n",
    "The Z-score is calculated using the formula:\n",
    "\n",
    "𝑍=𝑋−𝜇/𝜎\n",
    "​\n",
    " \n",
    "Where \n",
    "X is the score, \n",
    "μ is the mean, and \n",
    "σ is the standard deviation.\n",
    "\n",
    "For \n",
    "X=55:\n",
    "\n",
    "𝑍=55−49/6\n",
    "=1\n",
    " \n",
    "Find the proportion of students with a Z-score greater than 1:\n",
    "\n",
    "Using the standard normal distribution table, the proportion of students with a Z-score less than 1 is approximately 0.8413. Therefore, the proportion of students with a Z-score greater than 1 is:\n",
    "\n",
    "𝑃(𝑍>1)=1−0.8413\n",
    "=0.1587\n",
    "P(Z>1)=1−0.8413=0.1587\n",
    "So, approximately 15.87% of the students scored more than 55 marks.\n",
    "\n",
    "b) Proportion of students who scored more than 70 marks\n",
    "Calculate the Z-score:\n",
    "\n",
    "For \n",
    "X=70:\n",
    "\n",
    "𝑍=70−49/6\n",
    "=3.5\n",
    "Find the proportion of students with a Z-score greater than 3.5:\n",
    "\n",
    "The proportion of students with a Z-score less than 3.5 is approximately 0.9997. Therefore, the proportion of students with a Z-score greater than 3.5 is:\n",
    "\n",
    "𝑃(𝑍>3.5)=1−0.9997\n",
    "=\n",
    "0.0003\n",
    "P(Z>3.5)=1−0.9997=0.0003\n",
    "So, approximately 0.03% of the students scored more than 70 marks.\n",
    "\n",
    "Summary\n",
    "a) Approximately 15.87% of the students scored more than 55 marks.\n",
    "b) Approximately 0.03% of the students scored more than 70 marks."
   ]
  },
  {
   "cell_type": "code",
   "execution_count": null,
   "id": "b9a800ca",
   "metadata": {},
   "outputs": [],
   "source": [
    "## Q. If the height of 500 student are normally distributed with mean 65 inch and standard division five inch how many \n",
    "student have heights greater than 70 inch between 60 and 70 inch"
   ]
  },
  {
   "cell_type": "code",
   "execution_count": null,
   "id": "70d11c11",
   "metadata": {},
   "outputs": [],
   "source": [
    "ANS..Mean (\n",
    "𝜇 = 65 inches\n",
    "𝜎 = 5 inches\n",
    "Total number of students = 500\n",
    "    \n",
    "    The Z-score is calculated using the formula:\n",
    "\n",
    "𝑍=𝑋−𝜇/𝜎\n",
    "Find the Z-scores for 70 inches and 60 inches\n",
    "For 70 inches:\n",
    "𝑍=70−65/5\n",
    "=1\n",
    "\n",
    "    For 60 inches:\n",
    "𝑍=60−65/5\n",
    "=−1\n",
    "    \n",
    "    \n",
    "    For \n",
    "\n",
    " =1: The area to the left is approximately 0.8413.\n",
    "For\n",
    " =−1: The area to the left is approximately 0.1587.\n",
    "    Probability of heights greater than 70 inches:\n",
    "    =1−0.8413=0.1587\n",
    "    \n",
    "    Probability of heights between 60 and 70 inches:\n",
    "    =0.8413−0.1587=0.6826\n",
    "Number of students greater than 70 inches:\n",
    "𝑁\n",
    "\n",
    "=0.1587×500\n",
    "=\n",
    "79.35≈79\n",
    " studentsN 70\n",
    "​\n",
    " =0.1587×500=79.35≈79 students\n",
    "Number of students between 60 and 70 inches:\n",
    "\n",
    "=0.6826×500\n",
    "=\n",
    "341.3\n",
    "≈\n",
    "341\n",
    " students\n",
    "N \n",
    "60−70\n",
    "​\n",
    " =0.6826×500=341.3≈341 students"
   ]
  },
  {
   "cell_type": "code",
   "execution_count": null,
   "id": "e33604e1",
   "metadata": {},
   "outputs": [],
   "source": [
    "## Q. the random sample of size 25 from a population gives the sample standard deviation deviation to be 9.0 test hypothesis rate the population standard deviation is 10.5"
   ]
  },
  {
   "cell_type": "code",
   "execution_count": null,
   "id": "1d658a38",
   "metadata": {},
   "outputs": [],
   "source": [
    "## Q.What is statistical hypothesis explain the error in hypothesis testing explain the sample what are large sample and small\n",
    "sample"
   ]
  },
  {
   "cell_type": "code",
   "execution_count": null,
   "id": "01b982a3",
   "metadata": {},
   "outputs": [],
   "source": [
    "A statistical hypothesis is a statement or assumption about a population parameter (such as a mean, variance, or proportion)\n",
    "that can be tested using statistical methods. Hypothesis testing is a procedure in which sample data is used to determine \n",
    "whether to reject or fail to reject a statistical hypothesis.\n",
    "\n",
    "There are two types of statistical hypotheses:\n",
    "\n",
    "1.Null Hypothesis \n",
    "\n",
    "2.Alternative Hypothesis \n",
    "\n",
    "error----\n",
    "his occurs when the null hypothesis is true, but we incorrectly reject it.\n",
    "This occurs when the null hypothesis is false, but we fail to reject it.\n",
    "\n",
    "\n",
    "A sample is a subset of a population that is selected for analysis. The goal of sampling is to make inferences about the \n",
    "population based on the sample data.\n",
    "\n",
    "Large Sample:\n",
    "\n",
    "Definition: Typically, a sample size is considered large if\n",
    "𝑛≥30\n",
    "\n",
    "Small Sample:\n",
    "\n",
    "Definition: A sample size is considered small if \n",
    "n<30."
   ]
  },
  {
   "cell_type": "markdown",
   "id": "ebd1ae7c",
   "metadata": {},
   "source": [
    "## Q. Do the eda on the given data set lung cancer and extract some using useful information from these"
   ]
  },
  {
   "cell_type": "code",
   "execution_count": 6,
   "id": "e5b438f6",
   "metadata": {},
   "outputs": [],
   "source": [
    "import numpy as np\n",
    "import pandas as pd\n",
    "import seaborn as sns\n",
    "import matplotlib.pyplot as plt\n",
    "%matplotlib inline\n",
    "\n",
    "df=pd.read_csv(\"survey-lung-cancer.csv\")"
   ]
  },
  {
   "cell_type": "code",
   "execution_count": 7,
   "id": "41259b1e",
   "metadata": {},
   "outputs": [
    {
     "name": "stdout",
     "output_type": "stream",
     "text": [
      "<class 'pandas.core.frame.DataFrame'>\n",
      "RangeIndex: 309 entries, 0 to 308\n",
      "Data columns (total 16 columns):\n",
      " #   Column                 Non-Null Count  Dtype \n",
      "---  ------                 --------------  ----- \n",
      " 0   GENDER                 309 non-null    object\n",
      " 1   AGE                    309 non-null    int64 \n",
      " 2   SMOKING                309 non-null    object\n",
      " 3   YELLOW_FINGERS         309 non-null    object\n",
      " 4   ANXIETY                309 non-null    object\n",
      " 5   PEER_PRESSURE          309 non-null    object\n",
      " 6   CHRONIC DISEASE        309 non-null    object\n",
      " 7   FATIGUE                309 non-null    object\n",
      " 8   ALLERGY                309 non-null    object\n",
      " 9   WHEEZING               309 non-null    object\n",
      " 10  ALCOHOL CONSUMING      309 non-null    object\n",
      " 11  COUGHING               309 non-null    object\n",
      " 12  SHORTNESS OF BREATH    309 non-null    object\n",
      " 13  SWALLOWING DIFFICULTY  309 non-null    object\n",
      " 14  CHEST PAIN             309 non-null    object\n",
      " 15  LUNG_CANCER            309 non-null    object\n",
      "dtypes: int64(1), object(15)\n",
      "memory usage: 38.8+ KB\n"
     ]
    }
   ],
   "source": [
    "df.info()"
   ]
  },
  {
   "cell_type": "code",
   "execution_count": 8,
   "id": "89553d92",
   "metadata": {},
   "outputs": [
    {
     "data": {
      "text/html": [
       "<div>\n",
       "<style scoped>\n",
       "    .dataframe tbody tr th:only-of-type {\n",
       "        vertical-align: middle;\n",
       "    }\n",
       "\n",
       "    .dataframe tbody tr th {\n",
       "        vertical-align: top;\n",
       "    }\n",
       "\n",
       "    .dataframe thead th {\n",
       "        text-align: right;\n",
       "    }\n",
       "</style>\n",
       "<table border=\"1\" class=\"dataframe\">\n",
       "  <thead>\n",
       "    <tr style=\"text-align: right;\">\n",
       "      <th></th>\n",
       "      <th>AGE</th>\n",
       "    </tr>\n",
       "  </thead>\n",
       "  <tbody>\n",
       "    <tr>\n",
       "      <th>count</th>\n",
       "      <td>309.000000</td>\n",
       "    </tr>\n",
       "    <tr>\n",
       "      <th>mean</th>\n",
       "      <td>62.673139</td>\n",
       "    </tr>\n",
       "    <tr>\n",
       "      <th>std</th>\n",
       "      <td>8.210301</td>\n",
       "    </tr>\n",
       "    <tr>\n",
       "      <th>min</th>\n",
       "      <td>21.000000</td>\n",
       "    </tr>\n",
       "    <tr>\n",
       "      <th>25%</th>\n",
       "      <td>57.000000</td>\n",
       "    </tr>\n",
       "    <tr>\n",
       "      <th>50%</th>\n",
       "      <td>62.000000</td>\n",
       "    </tr>\n",
       "    <tr>\n",
       "      <th>75%</th>\n",
       "      <td>69.000000</td>\n",
       "    </tr>\n",
       "    <tr>\n",
       "      <th>max</th>\n",
       "      <td>87.000000</td>\n",
       "    </tr>\n",
       "  </tbody>\n",
       "</table>\n",
       "</div>"
      ],
      "text/plain": [
       "              AGE\n",
       "count  309.000000\n",
       "mean    62.673139\n",
       "std      8.210301\n",
       "min     21.000000\n",
       "25%     57.000000\n",
       "50%     62.000000\n",
       "75%     69.000000\n",
       "max     87.000000"
      ]
     },
     "execution_count": 8,
     "metadata": {},
     "output_type": "execute_result"
    }
   ],
   "source": [
    "df.describe()"
   ]
  },
  {
   "cell_type": "code",
   "execution_count": 10,
   "id": "5560cfa8",
   "metadata": {},
   "outputs": [
    {
     "data": {
      "text/plain": [
       "Index(['GENDER', 'AGE', 'SMOKING', 'YELLOW_FINGERS', 'ANXIETY',\n",
       "       'PEER_PRESSURE', 'CHRONIC DISEASE', 'FATIGUE ', 'ALLERGY ', 'WHEEZING',\n",
       "       'ALCOHOL CONSUMING', 'COUGHING', 'SHORTNESS OF BREATH',\n",
       "       'SWALLOWING DIFFICULTY', 'CHEST PAIN', 'LUNG_CANCER'],\n",
       "      dtype='object')"
      ]
     },
     "execution_count": 10,
     "metadata": {},
     "output_type": "execute_result"
    }
   ],
   "source": [
    "df.columns"
   ]
  },
  {
   "cell_type": "code",
   "execution_count": 12,
   "id": "2bc2c61e",
   "metadata": {},
   "outputs": [
    {
     "data": {
      "text/html": [
       "<div>\n",
       "<style scoped>\n",
       "    .dataframe tbody tr th:only-of-type {\n",
       "        vertical-align: middle;\n",
       "    }\n",
       "\n",
       "    .dataframe tbody tr th {\n",
       "        vertical-align: top;\n",
       "    }\n",
       "\n",
       "    .dataframe thead th {\n",
       "        text-align: right;\n",
       "    }\n",
       "</style>\n",
       "<table border=\"1\" class=\"dataframe\">\n",
       "  <thead>\n",
       "    <tr style=\"text-align: right;\">\n",
       "      <th></th>\n",
       "      <th>GENDER</th>\n",
       "      <th>AGE</th>\n",
       "      <th>SMOKING</th>\n",
       "      <th>YELLOW_FINGERS</th>\n",
       "      <th>ANXIETY</th>\n",
       "      <th>PEER_PRESSURE</th>\n",
       "      <th>CHRONIC DISEASE</th>\n",
       "      <th>FATIGUE</th>\n",
       "      <th>ALLERGY</th>\n",
       "      <th>WHEEZING</th>\n",
       "      <th>ALCOHOL CONSUMING</th>\n",
       "      <th>COUGHING</th>\n",
       "      <th>SHORTNESS OF BREATH</th>\n",
       "      <th>SWALLOWING DIFFICULTY</th>\n",
       "      <th>CHEST PAIN</th>\n",
       "      <th>LUNG_CANCER</th>\n",
       "    </tr>\n",
       "  </thead>\n",
       "  <tbody>\n",
       "    <tr>\n",
       "      <th>0</th>\n",
       "      <td>M</td>\n",
       "      <td>69</td>\n",
       "      <td>NO</td>\n",
       "      <td>YES</td>\n",
       "      <td>YES</td>\n",
       "      <td>NO</td>\n",
       "      <td>NO</td>\n",
       "      <td>YES</td>\n",
       "      <td>NO</td>\n",
       "      <td>YES</td>\n",
       "      <td>YES</td>\n",
       "      <td>YES</td>\n",
       "      <td>YES</td>\n",
       "      <td>YES</td>\n",
       "      <td>YES</td>\n",
       "      <td>YES</td>\n",
       "    </tr>\n",
       "    <tr>\n",
       "      <th>1</th>\n",
       "      <td>M</td>\n",
       "      <td>74</td>\n",
       "      <td>YES</td>\n",
       "      <td>NO</td>\n",
       "      <td>NO</td>\n",
       "      <td>NO</td>\n",
       "      <td>YES</td>\n",
       "      <td>YES</td>\n",
       "      <td>YES</td>\n",
       "      <td>NO</td>\n",
       "      <td>NO</td>\n",
       "      <td>NO</td>\n",
       "      <td>YES</td>\n",
       "      <td>YES</td>\n",
       "      <td>YES</td>\n",
       "      <td>YES</td>\n",
       "    </tr>\n",
       "    <tr>\n",
       "      <th>2</th>\n",
       "      <td>F</td>\n",
       "      <td>59</td>\n",
       "      <td>NO</td>\n",
       "      <td>NO</td>\n",
       "      <td>NO</td>\n",
       "      <td>YES</td>\n",
       "      <td>NO</td>\n",
       "      <td>YES</td>\n",
       "      <td>NO</td>\n",
       "      <td>YES</td>\n",
       "      <td>NO</td>\n",
       "      <td>YES</td>\n",
       "      <td>YES</td>\n",
       "      <td>NO</td>\n",
       "      <td>YES</td>\n",
       "      <td>NO</td>\n",
       "    </tr>\n",
       "    <tr>\n",
       "      <th>3</th>\n",
       "      <td>M</td>\n",
       "      <td>63</td>\n",
       "      <td>YES</td>\n",
       "      <td>YES</td>\n",
       "      <td>YES</td>\n",
       "      <td>NO</td>\n",
       "      <td>NO</td>\n",
       "      <td>NO</td>\n",
       "      <td>NO</td>\n",
       "      <td>NO</td>\n",
       "      <td>YES</td>\n",
       "      <td>NO</td>\n",
       "      <td>NO</td>\n",
       "      <td>YES</td>\n",
       "      <td>YES</td>\n",
       "      <td>NO</td>\n",
       "    </tr>\n",
       "    <tr>\n",
       "      <th>4</th>\n",
       "      <td>F</td>\n",
       "      <td>63</td>\n",
       "      <td>NO</td>\n",
       "      <td>YES</td>\n",
       "      <td>NO</td>\n",
       "      <td>NO</td>\n",
       "      <td>NO</td>\n",
       "      <td>NO</td>\n",
       "      <td>NO</td>\n",
       "      <td>YES</td>\n",
       "      <td>NO</td>\n",
       "      <td>YES</td>\n",
       "      <td>YES</td>\n",
       "      <td>NO</td>\n",
       "      <td>NO</td>\n",
       "      <td>NO</td>\n",
       "    </tr>\n",
       "  </tbody>\n",
       "</table>\n",
       "</div>"
      ],
      "text/plain": [
       "  GENDER  AGE SMOKING YELLOW_FINGERS ANXIETY PEER_PRESSURE CHRONIC DISEASE  \\\n",
       "0      M   69      NO            YES     YES            NO              NO   \n",
       "1      M   74     YES             NO      NO            NO             YES   \n",
       "2      F   59      NO             NO      NO           YES              NO   \n",
       "3      M   63     YES            YES     YES            NO              NO   \n",
       "4      F   63      NO            YES      NO            NO              NO   \n",
       "\n",
       "  FATIGUE  ALLERGY  WHEEZING ALCOHOL CONSUMING COUGHING SHORTNESS OF BREATH  \\\n",
       "0      YES       NO      YES               YES      YES                 YES   \n",
       "1      YES      YES       NO                NO       NO                 YES   \n",
       "2      YES       NO      YES                NO      YES                 YES   \n",
       "3       NO       NO       NO               YES       NO                  NO   \n",
       "4       NO       NO      YES                NO      YES                 YES   \n",
       "\n",
       "  SWALLOWING DIFFICULTY CHEST PAIN LUNG_CANCER  \n",
       "0                   YES        YES         YES  \n",
       "1                   YES        YES         YES  \n",
       "2                    NO        YES          NO  \n",
       "3                   YES        YES          NO  \n",
       "4                    NO         NO          NO  "
      ]
     },
     "execution_count": 12,
     "metadata": {},
     "output_type": "execute_result"
    }
   ],
   "source": [
    "df.head()"
   ]
  },
  {
   "cell_type": "code",
   "execution_count": null,
   "id": "a9a91781",
   "metadata": {},
   "outputs": [],
   "source": [
    "# data cleaning and feature engineering"
   ]
  },
  {
   "cell_type": "code",
   "execution_count": 14,
   "id": "02ab25bf",
   "metadata": {
    "scrolled": false
   },
   "outputs": [
    {
     "data": {
      "text/plain": [
       "GENDER                   False\n",
       "AGE                      False\n",
       "SMOKING                  False\n",
       "YELLOW_FINGERS           False\n",
       "ANXIETY                  False\n",
       "PEER_PRESSURE            False\n",
       "CHRONIC DISEASE          False\n",
       "FATIGUE                  False\n",
       "ALLERGY                  False\n",
       "WHEEZING                 False\n",
       "ALCOHOL CONSUMING        False\n",
       "COUGHING                 False\n",
       "SHORTNESS OF BREATH      False\n",
       "SWALLOWING DIFFICULTY    False\n",
       "CHEST PAIN               False\n",
       "LUNG_CANCER              False\n",
       "dtype: bool"
      ]
     },
     "execution_count": 14,
     "metadata": {},
     "output_type": "execute_result"
    }
   ],
   "source": [
    "df.isna().any()"
   ]
  },
  {
   "cell_type": "code",
   "execution_count": 15,
   "id": "be944f6b",
   "metadata": {},
   "outputs": [],
   "source": [
    "df['LUNG_CANCER']=df['LUNG_CANCER'].replace('YES','1')\n",
    "df['LUNG_CANCER']=df['LUNG_CANCER'].replace('NO','0')"
   ]
  },
  {
   "cell_type": "code",
   "execution_count": 50,
   "id": "3245e214",
   "metadata": {},
   "outputs": [],
   "source": [
    "df['GENDER']=df['GENDER'].replace('M','1')\n",
    "df['GENDER']=df['GENDER'].replace('F','0')"
   ]
  },
  {
   "cell_type": "code",
   "execution_count": 24,
   "id": "782dde61",
   "metadata": {},
   "outputs": [],
   "source": [
    "df['SMOKING']=df['SMOKING'].replace('YES','1')\n",
    "df['SMOKING']=df['SMOKING'].replace('NO','0')"
   ]
  },
  {
   "cell_type": "code",
   "execution_count": 25,
   "id": "52725205",
   "metadata": {},
   "outputs": [],
   "source": [
    "df['YELLOW_FINGERS']=df['YELLOW_FINGERS'].replace('YES','1')\n",
    "df['YELLOW_FINGERS']=df['YELLOW_FINGERS'].replace('NO','0')"
   ]
  },
  {
   "cell_type": "code",
   "execution_count": 26,
   "id": "a9ec8732",
   "metadata": {},
   "outputs": [],
   "source": [
    "df['ANXIETY']=df['ANXIETY'].replace('YES','1')\n",
    "df['ANXIETY']=df['ANXIETY'].replace('NO','0')"
   ]
  },
  {
   "cell_type": "code",
   "execution_count": 27,
   "id": "73637836",
   "metadata": {},
   "outputs": [],
   "source": [
    "df['PEER_PRESSURE']=df['PEER_PRESSURE'].replace('YES','1')\n",
    "df['PEER_PRESSURE']=df['PEER_PRESSURE'].replace('NO','0')"
   ]
  },
  {
   "cell_type": "code",
   "execution_count": 28,
   "id": "8e765f74",
   "metadata": {},
   "outputs": [],
   "source": [
    "df['CHRONIC DISEASE']=df['CHRONIC DISEASE'].replace('YES','1')\n",
    "df['CHRONIC DISEASE']=df['CHRONIC DISEASE'].replace('NO','0')"
   ]
  },
  {
   "cell_type": "code",
   "execution_count": 36,
   "id": "c1aa2206",
   "metadata": {},
   "outputs": [],
   "source": [
    "df['FATIGUE ']=df['FATIGUE '].replace('YES','1')\n",
    "df['FATIGUE ']=df['FATIGUE '].replace('NO','0')"
   ]
  },
  {
   "cell_type": "code",
   "execution_count": 39,
   "id": "2b6b8cb2",
   "metadata": {},
   "outputs": [],
   "source": [
    "df['ALLERGY ']=df['ALLERGY '].replace('YES','1')\n",
    "df['ALLERGY ']=df['ALLERGY '].replace('NO','0')"
   ]
  },
  {
   "cell_type": "code",
   "execution_count": 40,
   "id": "c49e84f0",
   "metadata": {},
   "outputs": [],
   "source": [
    "df['WHEEZING']=df['WHEEZING'].replace('YES','1')\n",
    "df['WHEEZING']=df['WHEEZING'].replace('NO','0')"
   ]
  },
  {
   "cell_type": "code",
   "execution_count": 41,
   "id": "c70077a1",
   "metadata": {},
   "outputs": [],
   "source": [
    "df['ALCOHOL CONSUMING']=df['ALCOHOL CONSUMING'].replace('YES','1')\n",
    "df['ALCOHOL CONSUMING']=df['ALCOHOL CONSUMING'].replace('NO','0')"
   ]
  },
  {
   "cell_type": "code",
   "execution_count": 42,
   "id": "0a00c440",
   "metadata": {},
   "outputs": [],
   "source": [
    "df['COUGHING']=df['COUGHING'].replace('YES','1')\n",
    "df['COUGHING']=df['COUGHING'].replace('NO','0')"
   ]
  },
  {
   "cell_type": "code",
   "execution_count": 43,
   "id": "51805d6a",
   "metadata": {},
   "outputs": [],
   "source": [
    "df['SHORTNESS OF BREATH']=df['SHORTNESS OF BREATH'].replace('YES','1')\n",
    "df['SHORTNESS OF BREATH']=df['SHORTNESS OF BREATH'].replace('NO','0')"
   ]
  },
  {
   "cell_type": "code",
   "execution_count": 44,
   "id": "e35bdf5d",
   "metadata": {},
   "outputs": [],
   "source": [
    "df['SWALLOWING DIFFICULTY']=df['SWALLOWING DIFFICULTY'].replace('YES','1')\n",
    "df['SWALLOWING DIFFICULTY']=df['SWALLOWING DIFFICULTY'].replace('NO','0')"
   ]
  },
  {
   "cell_type": "code",
   "execution_count": 45,
   "id": "3c995dba",
   "metadata": {},
   "outputs": [],
   "source": [
    "df['CHEST PAIN']=df['CHEST PAIN'].replace('YES','1')\n",
    "df['CHEST PAIN']=df['CHEST PAIN'].replace('NO','0')"
   ]
  },
  {
   "cell_type": "code",
   "execution_count": 51,
   "id": "96841b87",
   "metadata": {},
   "outputs": [
    {
     "data": {
      "text/plain": [
       "Index(['GENDER', 'AGE', 'SMOKING', 'YELLOW_FINGERS', 'ANXIETY',\n",
       "       'PEER_PRESSURE', 'CHRONIC DISEASE', 'FATIGUE ', 'ALLERGY ', 'WHEEZING',\n",
       "       'ALCOHOL CONSUMING', 'COUGHING', 'SHORTNESS OF BREATH',\n",
       "       'SWALLOWING DIFFICULTY', 'CHEST PAIN', 'LUNG_CANCER'],\n",
       "      dtype='object')"
      ]
     },
     "execution_count": 51,
     "metadata": {},
     "output_type": "execute_result"
    }
   ],
   "source": [
    "df.columns"
   ]
  },
  {
   "cell_type": "code",
   "execution_count": 54,
   "id": "ad7821e5",
   "metadata": {},
   "outputs": [
    {
     "data": {
      "text/html": [
       "<div>\n",
       "<style scoped>\n",
       "    .dataframe tbody tr th:only-of-type {\n",
       "        vertical-align: middle;\n",
       "    }\n",
       "\n",
       "    .dataframe tbody tr th {\n",
       "        vertical-align: top;\n",
       "    }\n",
       "\n",
       "    .dataframe thead th {\n",
       "        text-align: right;\n",
       "    }\n",
       "</style>\n",
       "<table border=\"1\" class=\"dataframe\">\n",
       "  <thead>\n",
       "    <tr style=\"text-align: right;\">\n",
       "      <th></th>\n",
       "      <th>GENDER</th>\n",
       "      <th>AGE</th>\n",
       "      <th>SMOKING</th>\n",
       "      <th>YELLOW_FINGERS</th>\n",
       "      <th>ANXIETY</th>\n",
       "      <th>PEER_PRESSURE</th>\n",
       "      <th>CHRONIC DISEASE</th>\n",
       "      <th>FATIGUE</th>\n",
       "      <th>ALLERGY</th>\n",
       "      <th>WHEEZING</th>\n",
       "      <th>ALCOHOL CONSUMING</th>\n",
       "      <th>COUGHING</th>\n",
       "      <th>SHORTNESS OF BREATH</th>\n",
       "      <th>SWALLOWING DIFFICULTY</th>\n",
       "      <th>CHEST PAIN</th>\n",
       "      <th>LUNG_CANCER</th>\n",
       "    </tr>\n",
       "  </thead>\n",
       "  <tbody>\n",
       "    <tr>\n",
       "      <th>0</th>\n",
       "      <td>1</td>\n",
       "      <td>69</td>\n",
       "      <td>0</td>\n",
       "      <td>1</td>\n",
       "      <td>1</td>\n",
       "      <td>0</td>\n",
       "      <td>0</td>\n",
       "      <td>1</td>\n",
       "      <td>0</td>\n",
       "      <td>1</td>\n",
       "      <td>1</td>\n",
       "      <td>1</td>\n",
       "      <td>1</td>\n",
       "      <td>1</td>\n",
       "      <td>1</td>\n",
       "      <td>1</td>\n",
       "    </tr>\n",
       "    <tr>\n",
       "      <th>1</th>\n",
       "      <td>1</td>\n",
       "      <td>74</td>\n",
       "      <td>1</td>\n",
       "      <td>0</td>\n",
       "      <td>0</td>\n",
       "      <td>0</td>\n",
       "      <td>1</td>\n",
       "      <td>1</td>\n",
       "      <td>1</td>\n",
       "      <td>0</td>\n",
       "      <td>0</td>\n",
       "      <td>0</td>\n",
       "      <td>1</td>\n",
       "      <td>1</td>\n",
       "      <td>1</td>\n",
       "      <td>1</td>\n",
       "    </tr>\n",
       "    <tr>\n",
       "      <th>2</th>\n",
       "      <td>0</td>\n",
       "      <td>59</td>\n",
       "      <td>0</td>\n",
       "      <td>0</td>\n",
       "      <td>0</td>\n",
       "      <td>1</td>\n",
       "      <td>0</td>\n",
       "      <td>1</td>\n",
       "      <td>0</td>\n",
       "      <td>1</td>\n",
       "      <td>0</td>\n",
       "      <td>1</td>\n",
       "      <td>1</td>\n",
       "      <td>0</td>\n",
       "      <td>1</td>\n",
       "      <td>0</td>\n",
       "    </tr>\n",
       "    <tr>\n",
       "      <th>3</th>\n",
       "      <td>1</td>\n",
       "      <td>63</td>\n",
       "      <td>1</td>\n",
       "      <td>1</td>\n",
       "      <td>1</td>\n",
       "      <td>0</td>\n",
       "      <td>0</td>\n",
       "      <td>0</td>\n",
       "      <td>0</td>\n",
       "      <td>0</td>\n",
       "      <td>1</td>\n",
       "      <td>0</td>\n",
       "      <td>0</td>\n",
       "      <td>1</td>\n",
       "      <td>1</td>\n",
       "      <td>0</td>\n",
       "    </tr>\n",
       "    <tr>\n",
       "      <th>4</th>\n",
       "      <td>0</td>\n",
       "      <td>63</td>\n",
       "      <td>0</td>\n",
       "      <td>1</td>\n",
       "      <td>0</td>\n",
       "      <td>0</td>\n",
       "      <td>0</td>\n",
       "      <td>0</td>\n",
       "      <td>0</td>\n",
       "      <td>1</td>\n",
       "      <td>0</td>\n",
       "      <td>1</td>\n",
       "      <td>1</td>\n",
       "      <td>0</td>\n",
       "      <td>0</td>\n",
       "      <td>0</td>\n",
       "    </tr>\n",
       "  </tbody>\n",
       "</table>\n",
       "</div>"
      ],
      "text/plain": [
       "  GENDER  AGE SMOKING YELLOW_FINGERS ANXIETY PEER_PRESSURE CHRONIC DISEASE  \\\n",
       "0      1   69       0              1       1             0               0   \n",
       "1      1   74       1              0       0             0               1   \n",
       "2      0   59       0              0       0             1               0   \n",
       "3      1   63       1              1       1             0               0   \n",
       "4      0   63       0              1       0             0               0   \n",
       "\n",
       "  FATIGUE  ALLERGY  WHEEZING ALCOHOL CONSUMING COUGHING SHORTNESS OF BREATH  \\\n",
       "0        1        0        1                 1        1                   1   \n",
       "1        1        1        0                 0        0                   1   \n",
       "2        1        0        1                 0        1                   1   \n",
       "3        0        0        0                 1        0                   0   \n",
       "4        0        0        1                 0        1                   1   \n",
       "\n",
       "  SWALLOWING DIFFICULTY CHEST PAIN LUNG_CANCER  \n",
       "0                     1          1           1  \n",
       "1                     1          1           1  \n",
       "2                     0          1           0  \n",
       "3                     1          1           0  \n",
       "4                     0          0           0  "
      ]
     },
     "execution_count": 54,
     "metadata": {},
     "output_type": "execute_result"
    }
   ],
   "source": [
    "df.head()"
   ]
  },
  {
   "cell_type": "code",
   "execution_count": 55,
   "id": "ff344b80",
   "metadata": {},
   "outputs": [
    {
     "name": "stderr",
     "output_type": "stream",
     "text": [
      "C:\\Users\\Pooja Rathore\\AppData\\Local\\Temp\\ipykernel_24276\\1604059582.py:2: FutureWarning: The default value of numeric_only in DataFrame.corr is deprecated. In a future version, it will default to False. Select only valid columns or specify the value of numeric_only to silence this warning.\n",
      "  sns.heatmap(df.corr(),annot=True)\n"
     ]
    },
    {
     "data": {
      "text/plain": [
       "<Axes: >"
      ]
     },
     "execution_count": 55,
     "metadata": {},
     "output_type": "execute_result"
    },
    {
     "data": {
      "image/png": "[encoded data removed]",
      "text/plain": [
       "<Figure size 1000x800 with 2 Axes>"
      ]
     },
     "metadata": {},
     "output_type": "display_data"
    }
   ],
   "source": [
    "plt.figure(figsize=(10,8))\n",
    "sns.heatmap(df.corr(),annot=True)\n",
    "\n"
   ]
  },
  {
   "cell_type": "code",
   "execution_count": null,
   "id": "0d677dbc",
   "metadata": {},
   "outputs": [],
   "source": [
    "# which is the most comman age of cancer patients"
   ]
  },
  {
   "cell_type": "code",
   "execution_count": 56,
   "id": "83c002b2",
   "metadata": {},
   "outputs": [],
   "source": [
    "comman_age=df['AGE'].value_counts()"
   ]
  },
  {
   "cell_type": "code",
   "execution_count": 58,
   "id": "b4ce1e64",
   "metadata": {},
   "outputs": [
    {
     "data": {
      "text/plain": [
       "64    20\n",
       "63    19\n",
       "56    19\n",
       "62    18\n",
       "60    17\n",
       "Name: AGE, dtype: int64"
      ]
     },
     "execution_count": 58,
     "metadata": {},
     "output_type": "execute_result"
    }
   ],
   "source": [
    "comman_age.head()"
   ]
  },
  {
   "cell_type": "code",
   "execution_count": 59,
   "id": "220dbc76",
   "metadata": {},
   "outputs": [
    {
     "data": {
      "image/png": "[encoded data removed]",
      "text/plain": [
       "<Figure size 640x480 with 1 Axes>"
      ]
     },
     "metadata": {},
     "output_type": "display_data"
    }
   ],
   "source": [
    "comman_age.plot(kind='bar')\n",
    "plt.show()"
   ]
  },
  {
   "cell_type": "code",
   "execution_count": 60,
   "id": "b8be8756",
   "metadata": {},
   "outputs": [
    {
     "data": {
      "text/plain": [
       "<matplotlib.collections.PathCollection at 0x24efaf0bcd0>"
      ]
     },
     "execution_count": 60,
     "metadata": {},
     "output_type": "execute_result"
    },
    {
     "data": {
      "image/png": "[encoded data removed]",
      "text/plain": [
       "<Figure size 640x480 with 1 Axes>"
      ]
     },
     "metadata": {},
     "output_type": "display_data"
    }
   ],
   "source": [
    "plt.scatter(df['AGE'],df['GENDER'])"
   ]
  },
  {
   "cell_type": "code",
   "execution_count": null,
   "id": "89a44776",
   "metadata": {},
   "outputs": [],
   "source": [
    "# hear 50 to 76  yera peoplr are most prone to having cancer"
   ]
  },
  {
   "cell_type": "code",
   "execution_count": 63,
   "id": "f94678b0",
   "metadata": {},
   "outputs": [
    {
     "data": {
      "text/plain": [
       "<Axes: xlabel='SMOKING,LUNG_CANCER'>"
      ]
     },
     "execution_count": 63,
     "metadata": {},
     "output_type": "execute_result"
    },
    {
     "data": {
      "image/png": "[encoded data removed]",
      "text/plain": [
       "<Figure size 640x480 with 1 Axes>"
      ]
     },
     "metadata": {},
     "output_type": "display_data"
    }
   ],
   "source": [
    "# relation between smoking and lung cancer\n",
    "df.groupby(['SMOKING','LUNG_CANCER']).SMOKING.count().plot(kind='bar')"
   ]
  },
  {
   "cell_type": "code",
   "execution_count": 64,
   "id": "c69a8fea",
   "metadata": {},
   "outputs": [
    {
     "data": {
      "text/plain": [
       "<Axes: xlabel='ALCOHOL CONSUMING,LUNG_CANCER'>"
      ]
     },
     "execution_count": 64,
     "metadata": {},
     "output_type": "execute_result"
    },
    {
     "data": {
      "image/png": "[encoded data removed]",
      "text/plain": [
       "<Figure size 640x480 with 1 Axes>"
      ]
     },
     "metadata": {},
     "output_type": "display_data"
    }
   ],
   "source": [
    "df.groupby(['ALCOHOL CONSUMING','LUNG_CANCER']).SMOKING.count().plot(kind='bar')"
   ]
  },
  {
   "cell_type": "code",
   "execution_count": 65,
   "id": "2bcdbf7b",
   "metadata": {
    "scrolled": true
   },
   "outputs": [
    {
     "data": {
      "text/plain": [
       "<Axes: xlabel='CHRONIC DISEASE,LUNG_CANCER'>"
      ]
     },
     "execution_count": 65,
     "metadata": {},
     "output_type": "execute_result"
    },
    {
     "data": {
      "image/png": "[encoded data removed]",
      "text/plain": [
       "<Figure size 640x480 with 1 Axes>"
      ]
     },
     "metadata": {},
     "output_type": "display_data"
    }
   ],
   "source": [
    "df.groupby(['CHRONIC DISEASE','LUNG_CANCER']).SMOKING.count().plot(kind='bar')"
   ]
  },
  {
   "cell_type": "code",
   "execution_count": null,
   "id": "47df1f5c",
   "metadata": {},
   "outputs": [],
   "source": [
    "#Gender-Wise Comparison For LUNG_CANCER\n"
   ]
  },
  {
   "cell_type": "markdown",
   "id": "bb531750",
   "metadata": {},
   "source": [
    "## Machin learning question"
   ]
  },
  {
   "cell_type": "code",
   "execution_count": null,
   "id": "020f41ee",
   "metadata": {},
   "outputs": [],
   "source": [
    "Q.1 what is diff b/n series and dataframe?\n",
    "Ans..\n",
    "import pandas as pd\n",
    "\n",
    "# Creating a Series\n",
    "data = pd.Series([10, 20, 30, 40], index=['a', 'b', 'c', 'd'])\n",
    "\n",
    "\n",
    "## Dataframe\n",
    "\n",
    "import pandas as pd\n",
    "\n",
    "# Creating a DataFrame\n",
    "data = pd.DataFrame({\n",
    "    'A': [1, 2, 3, 4],\n",
    "    'B': [10, 20, 30, 40],\n",
    "    'C': [100, 200, 300, 400]\n",
    "})\n",
    "\n",
    "\n",
    "\n",
    "\n",
    "Series is a single-column structure with an index, akin to a column in a\n",
    "spreadsheet.\n",
    "DataFrame is a multi-column structure with both row and column indices, akin \n",
    "to a full spreadsheet or SQL table."
   ]
  },
  {
   "cell_type": "code",
   "execution_count": null,
   "id": "7d3b0473",
   "metadata": {},
   "outputs": [],
   "source": [
    "Q.2 Create a data frame name Travel_Planner in my sql and create a table named \n",
    "booking in that which having attributes user_id int flight_id int hotel_id int \n",
    "activity_ID int booking date that filled with some dummy value now you have to\n",
    "read the content of this table using pandas as a strata frame show the output\n",
    "\n",
    "\n",
    "Ans..CREATE DATABASE Travel_Planner;\n",
    "\n",
    "USE Travel_Planner;\n",
    "\n",
    "CREATE TABLE booking (\n",
    "    user_id INT,\n",
    "    flight_id INT,\n",
    "    hotel_id INT,\n",
    "    activity_id INT,\n",
    "    booking_date DATE\n",
    ");\n",
    "\n",
    "INSERT INTO booking (user_id, flight_id, hotel_id, activity_id, booking_date) VALUES\n",
    "(1, 101, 201, 301, '2024-08-25'),\n",
    "(2, 102, 202, 302, '2024-08-26'),\n",
    "(3, 103, 203, 303, '2024-08-27'),\n",
    "(4, 104, 204, 304, '2024-08-28');"
   ]
  },
  {
   "cell_type": "code",
   "execution_count": null,
   "id": "cbd83464",
   "metadata": {},
   "outputs": [],
   "source": [
    "Q.3 diffrence between loc and iloc?\n",
    "\n",
    "Ans..data = {'A': [10, 20, 30], 'B': [40, 50, 60], 'C': [70, 80, 90]}\n",
    "df = pd.DataFrame(data, index=['x', 'y', 'z'])\n",
    "\n",
    "# loc example (label-based)\n",
    "print(df.loc['y', 'B'])  # Output: 50\n",
    "\n",
    "# iloc example (integer-based)\n",
    "print(df.iloc[1, 1])  # Output: 50 \n",
    "\n",
    "\n",
    "\n",
    "\n",
    "df.loc['y', 'B'] accesses the value 50 using the label y for the row and B \n",
    "for the column.\n",
    "df.iloc[1, 1] accesses the value 50 using the integer position 1 for both \n",
    "the row and column."
   ]
  },
  {
   "cell_type": "markdown",
   "id": "0dad631d",
   "metadata": {},
   "source": [
    "Ans..Labeled Data: In supervised learning, the model is trained on a dataset that includes input-output pairs (labeled data). Each input is paired with the correct output, and the model learns to map the inputs to the outputs.\n",
    "Objective: The goal is to learn a function that can predict the output for new, unseen inputs based on the patterns learned from the labeled training data.\n",
    "\n",
    "\n",
    "Unlabeled Data: In unsupervised learning, the model is trained on a dataset that does not have labeled outputs. The model tries to learn the underlying structure or distribution of the data without any explicit guidance.\n",
    "Objective: The goal is to find hidden patterns, groupings, or relationships in the data. The model identifies these patterns based on the similarities and differences in the data.\n"
   ]
  },
  {
   "cell_type": "code",
   "execution_count": null,
   "id": "f5bc05e7",
   "metadata": {},
   "outputs": [],
   "source": [
    "## Q.1  What is the difference between Series & Datatrames .\n",
    "A Series is a one-dimensional array-like object containing a sequence of values. Each value in a Series has an associated label (index). It can hold any data type (integers, strings, floating-point numbers, etc.). Series are similar to columns in a DataFrame. DataFrame:\n",
    "\n",
    "A DataFrame is a two-dimensional, size-mutable, and heterogeneous tabular data structure with labeled axes (rows and columns).\n",
    "It can be seen as a collection of Series objects sharing the same index. Each column in a DataFrame can be of a different data type. DataFrames are akin to a table in a relational database or an Excel spreadsheet. Creating and Reading a Table in MySQL with Pandas First, let's create the Travel_Planner database and bookings table in MySQL:\n",
    "sql Copy code CREATE DATABASE Travel_Planner;\n",
    "\n",
    "## Q.2USE Travel_Planner;\n",
    "\n",
    "CREATE TABLE bookings ( user_id INT, flight_id INT, hotel_id INT, activity_id INT, booking_date DATE );\n",
    "\n",
    "INSERT INTO bookings (user_id, flight_id, hotel_id, activity_id, booking_date) VALUES (1, 101, 201, 301, '2024-07-01'), (2, 102, 202, 302, '2024-07-02'), (3, 103, 203, 303, '2024-07-03'), (4, 104, 204, 304, '2024-07-04'), (5, 105, 205, 305, '2024-07-05'); Now, to read the contents of this table using Pandas:\n",
    "\n",
    "python Copy code import pandas as pd import mysql.connector\n",
    "\n",
    "Establishing the connection conn = mysql.connector.connect( host='localhost', user='your_username', password='your_password', database='Travel_Planner' )\n",
    "\n",
    "Reading the table into a DataFrame query = \"SELECT * FROM bookings;\" bookings_df = pd.read_sql(query, conn)\n",
    "\n",
    "Closing the connection conn.close()\n",
    "\n",
    "Displaying the DataFrame print(bookings_df)\n",
    "\n",
    "##Q.3 Difference between loc and iloc\n",
    "loc:\n",
    "\n",
    "Q.4 Label-based indexing. =Used to access a group of rows and columns by labels or a boolean array. df.loc[2] selects the row with the index label 2. iloc:\n",
    "\n",
    "Integer-based indexing. =Used to access a group of rows and columns by integer positions. df.iloc[2] selects the third row (index starts from 0).\n",
    "\n",
    "Q.5 Difference between Supervised and Unsupervised Learning\n",
    "Supervised Learning:\n",
    "The algorithm is trained on labeled data. The goal is to learn a mapping from inputs to outputs. Examples include regression and classification.\n",
    "\n",
    "Unsupervised Learning:\n",
    "The algorithm is trained on unlabeled data. The goal is to find hidden patterns or intrinsic structures. Examples include clustering and dimensionality reduction.\n",
    "\n",
    "Q.6 Explain Bias-Variance Tradeoff\n",
    "Bias:\n",
    "Error due to overly simplistic assumptions in the learning algorithm. High bias can cause underfitting.\n",
    "\n",
    "Variance:\n",
    "Error due to too much complexity in the learning algorithm. High variance can cause overfitting.\n",
    "\n",
    "Q.7 Tradeoff:\n",
    "A model with low bias and low variance is ideal. In practice, increasing model complexity decreases bias but increases variance and vice versa. The goal is to find the optimal balance.\n",
    "\n",
    "Q.8 What are Precision and Recall\n",
    "Precision:\n",
    "The ratio of true positive predictions to the total predicted positives. Precision = TP / (TP + FP)\n",
    "\n",
    "Recall:\n",
    "The ratio of true positive predictions to the actual positives. Recall = TP / (TP + FN)\n",
    "\n",
    "Q.9 Accuracy:\n",
    "The ratio of correct predictions to the total predictions. Accuracy = (TP + TN) / (TP + TN + FP + FN)\n",
    "\n",
    "Q.10 what is Overfitting and How to Prevent It\n",
    "Overfitting:\n",
    "When a model learns the noise in the training data instead of the actual pattern. It performs well on the training data but poorly on new data.\n",
    "\n",
    "Prevention:\n",
    "Use cross-validation. Simplify the model (reduce complexity). Use regularization techniques. Collect more training data. Prune the model (in decision trees).\n",
    "\n",
    "Q.11 What is Cross-Validation Concept:\n",
    "A technique to evaluate the generalizability of a model. The dataset is divided into k subsets (folds). The model is trained on k-1 folds and tested on the remaining fold. This process is repeated k times, each time with a different fold as the test set. The results are averaged to get a more accurate evaluation.\n",
    "\n",
    "Q.12 Difference between Classification and Regression\n",
    "Classification:\n",
    "Predicts discrete class labels. Examples: Spam detection, disease diagnosis.\n",
    "\n",
    "Regression:\n",
    "Predicts continuous values. Examples: House price prediction, temperature forecasting.\n",
    "\n",
    "Q.13 Explain the concept of Ensemble Learning\n",
    "Concept: Combines multiple models to improve performance. Types include bagging, boosting, and stacking. Reduces overfitting and improves generalization.\n",
    "Describe the difference between batch gradient descent and stochastic gradient descent.\n",
    "Gradient Descent Concept: An optimization algorithm to minimize the cost function. Iteratively adjusts the parameters in the direction of the negative gradient. Types: Batch Gradient Descent, Stochastic Gradient Descent, Mini-batch Gradient Descent.\n",
    "\n",
    "Q.14 Batch Gradient Descent vs. Stochastic Gradient Descent Batch Gradient Descent:\n",
    "\n",
    "Uses the entire dataset to compute the gradient. Converges to the minimum but can be slow and requires a lot of memory. Stochastic Gradient Descent:\n",
    "\n",
    "Uses a single training example to compute the gradient. Faster and more memory-efficient. Can be noisy and may not converge to the global minimum.\n",
    "\n",
    "Q.15 What is the curse of dimensionality in machine learning?\n",
    "Concept: As the number of features increases, the volume of the feature space increases exponentially. Data points become sparse, and the distance between them increases. Models become harder to train and may suffer from overfitting.\n",
    "\n",
    "Q.16 L1 vs. L2 Regularization\n",
    "L1 Regularization (Lasso):\n",
    "Adds the absolute values of the coefficients to the cost function. Can result in sparse models (feature selection).\n",
    "\n",
    "L2 Regularization (Ridge):\n",
    "Adds the squared values of the coefficients to the cost function. Tends to shrink coefficients but doesn’t set them to zero.\n",
    "\n",
    "Q.17 What is a confusion matrix and how is it used? Define AUC-ROC curve\n",
    "Concept: A table used to evaluate the performance of a classification model. Contains true positives, true negatives, false positives, and false negatives. Helps calculate precision, recall, accuracy, and other metrics.\n",
    "\n",
    "Q.18 AUC-ROC Curve Concept: ROC (Receiver Operating Characteristic) curve plots true positive rate vs. false positive rate. AUC (Area Under the Curve) measures the area under the ROC curve. AUC-ROC indicates the model's ability to distinguish between classes.\n",
    "\n",
    "Q.19 Explain the k-nearest neighbors algorithm.\n",
    "Concept: A non-parametric, instance-based learning algorithm. Classifies a data point based on the majority class of its k nearest neighbors. Uses distance metrics like Euclidean distance.\n",
    "\n",
    "Q.20 Explain the basic concept of a Support Vector Machine (SVM).How does the kernel trick work in SVM?\n",
    "Concept: A supervised learning algorithm for classification and regression. Finds the optimal hyperplane that maximizes the margin between classes. Uses support vectors (data points closest to the hyperplane).\n",
    "\n",
    "Q.12 What are the different types of kernels used in SVM and when would you use each? What is the hyperplane in SVM and how is it determined?\n",
    "Concept: Transforms data into a higher-dimensional space to make it linearly separable. Common kernels: Linear, Polynomial, Radial Basis Function (RBF). Types of Kernels in SVM Linear Kernel: Used when the data is linearly separable. Polynomial Kernel: Suitable for non-linear data. RBF Kernel: Handles complex, non-linear data. Hyperplane in SVM Concept: The decision boundary separating different classes. Determined by maximizing the margin between support vectors.\n",
    "\n",
    "Q.22 What are the pros and cons of using a Support Vector Machine (SVM)?\n",
    "Pros:\n",
    "\n",
    "Effective in high-dimensional spaces. Works well with a clear margin of separation. Cons:\n",
    "\n",
    "Not suitable for large datasets. Sensitive to the choice of kernel and parameters.\n",
    "\n",
    "Q.23 Explain the difference between a hard margin and a soft margin SVM,\n",
    "Hard Margin:\n",
    "\n",
    "No misclassification allowed. Works only if data is linearly separable. Soft Margin:\n",
    "\n",
    "Allows some misclassification to handle non-linear data. Controlled by a parameter (C).\n",
    "\n",
    "Q.24 Q.25 Describe the process of constructing a decision tree\n",
    "Starts with the entire dataset as the root. Splits the data based on the feature that provides the highest information gain. Repeats the process recursively for each child node until a stopping criterion is met.\n",
    "\n",
    "Q.25 Describe the working principle of a decision tree,\n",
    "Concept: Splits data into subsets based on feature values. Each node represents a feature, and each branch represents a decision. Leaf nodes represent the final class labels.\n",
    "\n",
    "Q.26 What is information gain and how is it used in decision trees?\n",
    "Information Gain Concept: Measures the reduction in entropy after splitting the data. Used to decide the best feature for\n",
    "splitting. Information Gain = Entropy(parent) - Weighted Sum of Entropy(children).\n",
    "\n",
    "Q.27 Explain Gini impurity and its role in decision trees.\n",
    "Gini Impurity Concept: Measures the likelihood of incorrect classification of a randomly chosen element. Used to create splits\n",
    "in decision trees. Gini Impurity = 1 - Sum of (probability of each class)^2.\n",
    "\n",
    "Q.28 What are the advantages and disadvantages of decision trees?\n",
    "Advantages and Disadvantages of Decision Trees Advantages:\n",
    "Easy to interpret and visualize. Can handle both numerical and categorical data. Disadvantages:\n",
    "\n",
    "Prone to overfitting. Sensitive to small changes in data.\n",
    "\n",
    "Q.29 How do random forests improve upon decision trees?\n",
    "Concept: An ensemble method that constructs multiple decision trees. Aggregates their predictions to improve accuracy and reduce overfitting.\n",
    "\n",
    "Q.30 How does a random forest algorithm work?\n",
    "Process: Creates multiple bootstrap samples from the training data. Builds a decision tree for each sample. Aggregates the predictions (majority voting for classification, averaging for regression).\n",
    "\n",
    "Q.31 What is bootstrapping in the context of random forests?\n",
    "Concept: Random sampling with replacement. Each tree is trained on a different subset of the data.\n",
    "\n",
    "Q.32 Explain the concept of feature importance in random forests.\n",
    "Concept: Measures the importance of each feature in making predictions. Calculated based on the reduction in impurity (Gini or entropy). Logistic Regression Model Concept: A linear model used for binary classification. Uses the logistic function (sigmoid) to map predictions to probabilities.\n",
    "\n",
    "Q.33 What are the key hyperparameters of a random forest and how do they affect the model?t\n",
    "Concept:\n",
    "Number of trees (n_estimators): More trees increase accuracy but also computational cost. Maximum depth (max_depth): Limits the depth of the trees to prevent overfitting. Minimum samples split (min_samples_split): Minimum number of samples required to split an internal node.\n",
    "\n",
    "Q.34 Describe the logistic regression model and its assumptions.\n",
    "Concept: Uses the logistic function to model the probability of the default class. Thresholding the probability to make a final classification.\n",
    "\n",
    "Q.35How does logistic regression handle binary classification problems?\n",
    "Concept: Maps input values to a range between 0 and 1.\n",
    "\n",
    "Q.36 What is the sigmoid function and how is it used in logistic regression?\n",
    "𝜎(𝑧)=1+−𝑧 σ(z)= 1+e −z\n",
    "\n",
    "Q.37Explain the concept of the cost function in logistic regression.\n",
    "Concept: Measures the difference between predicted and actual values. Logistic regression uses the binary cross-entropy loss function.\n",
    "\n",
    "Q.38 How can logistic regression be extended to handle multiclass classification?\n",
    "Uses one-vs-rest or softmax (multinomial logistic regression) to handle multiple classes.\n",
    "\n",
    "Q.39What is the difference between LI and L2 regularization in logistic regression?\n",
    "Concept: L1 Regularization (Lasso): Adds the absolute values of coefficients. L2 Regularization (Ridge): Adds the squared values of coefficients.\n",
    "\n",
    "Q.40 What is XGBoost and how does it differ frorm other boosting algorithms?\n",
    "Concept: An optimized gradient boosting algorithm. Faster and more efficient than traditional boosting methods.\n",
    "\n",
    "Q.41 Explain the concept of boosting in the context of ensemble learning.\n",
    "How does XGBoost handle missing values? Concept: Sequentially builds models that correct errors of previous models. Reduces bias and variance.\n",
    "Handling Missing Values in XGBoost Concept: Automatically handles missing data by learning the best imputation.\n",
    "Q.42 What are the key hyperparameters in XGBoost and how do they affect model performance?\n",
    "Concept: Learning rate (eta): Controls the contribution of each tree. Number of trees (n_estimators): Controls the number of boosting rounds. Maximum depth (max_depth): Limits the depth of individual trees.\n",
    "\n",
    "Q.43 Describe the process of gradient boosting in XGBoost.\n",
    "Concept: Builds models sequentially, each one correcting the errors of its predecessor. Uses gradient descent to minimize the loss function.\n",
    "\n",
    "Q.44 What are the advantages and disadvantages of using XGBoost?\n",
    "Advantages:\n",
    "High performance and speed. Handles missing data well. Supports regularization.\n",
    "\n",
    "Disadvantages:\n",
    "Complex to tune. Can be computationally expensive.\n",
    "\n",
    "​\n",
    "​\n",
    "​"
   ]
  }
 ],
 "metadata": {
  "kernelspec": {
   "display_name": "Python 3 (ipykernel)",
   "language": "python",
   "name": "python3"
  },
  "language_info": {
   "codemirror_mode": {
    "name": "ipython",
    "version": 3
   },
   "file_extension": ".py",
   "mimetype": "text/x-python",
   "name": "python",
   "nbconvert_exporter": "python",
   "pygments_lexer": "ipython3",
   "version": "3.11.4"
  }
 },
 "nbformat": 4,
 "nbformat_minor": 5
}
